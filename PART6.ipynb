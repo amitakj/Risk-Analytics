{
 "cells": [
  {
   "cell_type": "markdown",
   "metadata": {},
   "source": [
    "### This work draws heavily on the [featuretools documentation](https://docs.featuretools.com/) and the [featuretools GitHub repository](https://github.com/Featuretools/featuretools). "
   ]
  },
  {
   "cell_type": "code",
   "execution_count": 1,
   "metadata": {},
   "outputs": [],
   "source": [
    "PATH = 'D:\\IPYNB\\Ipynb project\\project'"
   ]
  },
  {
   "cell_type": "code",
   "execution_count": 2,
   "metadata": {},
   "outputs": [],
   "source": [
    "# pandas and numpy for data manipulation\n",
    "import pandas as pd\n",
    "import numpy as np\n",
    "\n",
    "# automated feature engineering\n",
    "import featuretools as ft\n",
    "\n",
    "# Filter out pandas warnings\n",
    "import warnings \n",
    "warnings.filterwarnings('ignore')"
   ]
  },
  {
   "cell_type": "markdown",
   "metadata": {},
   "source": [
    "### Read in Data and Create Smaller Datasets\n",
    "\n",
    "We limit the data to 1000 rows because automated feature engineering is computationally intensive work. Later we can refactor this code into functions and put it in a script to run on a more powerful machine."
   ]
  },
  {
   "cell_type": "code",
   "execution_count": 3,
   "metadata": {
    "_uuid": "8c518868f1a699faa807d6116bc4cc01dfbf0f1f"
   },
   "outputs": [],
   "source": [
    "# Read in the datasets and limit to the first 1000 rows (sorted by SK_ID_CURR) \n",
    "# This allows us to actually see the results in a reasonable amount of time\n",
    "app_train = pd.read_csv(f'{PATH}/application_train.csv').sort_values('SK_ID_CURR').reset_index().loc[:1000, :].drop(columns = ['index'])\n",
    "app_test = pd.read_csv(f'{PATH}/application_test.csv').sort_values('SK_ID_CURR').reset_index().loc[:1000, :].drop(columns = ['index'])\n",
    "bureau = pd.read_csv(f'{PATH}/bureau.csv').sort_values(['SK_ID_CURR', 'SK_ID_BUREAU']).reset_index().loc[:1000, :].drop(columns = ['index'])\n",
    "bureau_balance = pd.read_csv(f'{PATH}/bureau_balance.csv').sort_values('SK_ID_BUREAU').reset_index().loc[:1000, :].drop(columns = ['index'])\n",
    "cash = pd.read_csv(f'{PATH}/POS_CASH_balance.csv').sort_values(['SK_ID_CURR', 'SK_ID_PREV']).reset_index().loc[:1000, :].drop(columns = ['index'])\n",
    "credit = pd.read_csv(f'{PATH}/credit_card_balance.csv').sort_values(['SK_ID_CURR', 'SK_ID_PREV']).reset_index().loc[:1000, :].drop(columns = ['index'])\n",
    "previous = pd.read_csv(f'{PATH}/previous_application.csv').sort_values(['SK_ID_CURR', 'SK_ID_PREV']).reset_index().loc[:1000, :].drop(columns = ['index'])\n",
    "installments = pd.read_csv(f'{PATH}/installments_payments.csv').sort_values(['SK_ID_CURR', 'SK_ID_PREV']).reset_index().loc[:1000, :].drop(columns = ['index'])"
   ]
  },
  {
   "cell_type": "markdown",
   "metadata": {},
   "source": [
    "### Properly Representing Variable Types\n",
    "\n",
    "There are a number of columns in the `app` dataframe that are represented as integers but are really discrete variables that can only take on a limited number of features. Some of these are Boolean flags (only 1 or 0) and two columns are ordinal (ordered discrete). To tell featuretools to treat these as Boolean variables, we need to pass in the correct datatype using a dictionary mapping {`variable_name`: `variable_type`}."
   ]
  },
  {
   "cell_type": "code",
   "execution_count": 4,
   "metadata": {
    "_uuid": "3840e1bc6bf1b407c63ad4bab59e1fa033bee28e"
   },
   "outputs": [
    {
     "name": "stdout",
     "output_type": "stream",
     "text": [
      "Number of boolean variables:  33\n"
     ]
    }
   ],
   "source": [
    "app_types = {}\n",
    "\n",
    "# Iterate through the columns and record the Boolean columns\n",
    "for col in app_train:\n",
    "    # If column is a number with only two values, encode it as a Boolean\n",
    "    if (app_train[col].dtype != 'object') and (len(app_train[col].unique()) <= 2):\n",
    "        app_types[col] = ft.variable_types.Boolean\n",
    "\n",
    "print('Number of boolean variables: ', len(app_types))"
   ]
  },
  {
   "cell_type": "markdown",
   "metadata": {},
   "source": [
    "### There are also two ordinal variables in the `app` data: the rating of the region with and without the city. "
   ]
  },
  {
   "cell_type": "code",
   "execution_count": 5,
   "metadata": {
    "_uuid": "f39e523e010e243cfe5a9b0776e448dfa7f033f4"
   },
   "outputs": [],
   "source": [
    "# Record ordinal variables\n",
    "app_types['REGION_RATING_CLIENT'] = ft.variable_types.Ordinal\n",
    "app_types['REGION_RATING_CLIENT_W_CITY'] = ft.variable_types.Ordinal\n",
    "\n",
    "app_test_types = app_types.copy()\n",
    "del app_test_types['TARGET']"
   ]
  },
  {
   "cell_type": "markdown",
   "metadata": {},
   "source": [
    "### The previous data also has two Boolean variables."
   ]
  },
  {
   "cell_type": "code",
   "execution_count": 6,
   "metadata": {
    "_uuid": "b4235cb6cd7b49a4493e35eda122cf824d0bf851"
   },
   "outputs": [],
   "source": [
    "# Record boolean variables in the previous data\n",
    "previous_types= {'NFLAG_LAST_APPL_IN_DAY': ft.variable_types.Boolean,\n",
    "                 'NFLAG_INSURED_ON_APPROVAL': ft.variable_types.Boolean}"
   ]
  },
  {
   "cell_type": "markdown",
   "metadata": {},
   "source": [
    "### Although we do not know the actual application date, if we assume a starting application date that is the same for all clients, then we can convert the `MONTHS_BALANCE` into a datetime. This can then be treated as a relative time that we can use to find trends or identify the most recent value of a variable. "
   ]
  },
  {
   "cell_type": "markdown",
   "metadata": {},
   "source": [
    "### Replace Outliers\n",
    "\n",
    "There are a number of day offsets that are recorded as 365243. Reading through discussions, others replaced this number with `np.nan`. If we don't do this, Pandas will not be able to convert into a timedelta and throws an error that the number is too large. The following code has been adapted from a script on [GitHub](https://github.com/JYLFamily/Home_Credit_Default_Risk/blob/master/20180603/FeaturesV2/ApplicationTestFeatures.py)."
   ]
  },
  {
   "cell_type": "code",
   "execution_count": 7,
   "metadata": {
    "_uuid": "b77ee6020dfcae646123d8b38b2cd6b210d442b6"
   },
   "outputs": [],
   "source": [
    "import re\n",
    "\n",
    "def replace_day_outliers(df):\n",
    "    \"\"\"Replace 365243 with np.nan in any columns with DAYS\"\"\"\n",
    "    for col in df.columns:\n",
    "        if \"DAYS\" in col:\n",
    "            df[col] = df[col].replace({365243: np.nan})\n",
    "\n",
    "    return df\n",
    "\n",
    "# Replace all the day outliers\n",
    "app_train = replace_day_outliers(app_train)\n",
    "app_test = replace_day_outliers(app_test)\n",
    "bureau = replace_day_outliers(bureau)\n",
    "bureau_balance = replace_day_outliers(bureau_balance)\n",
    "credit = replace_day_outliers(credit)\n",
    "cash = replace_day_outliers(cash)\n",
    "previous = replace_day_outliers(previous)\n",
    "installments = replace_day_outliers(installments)"
   ]
  },
  {
   "cell_type": "markdown",
   "metadata": {},
   "source": [
    "### First we establish an arbitrary date and then convert the time offset in months into a Pandas `timedelta` object."
   ]
  },
  {
   "cell_type": "code",
   "execution_count": 8,
   "metadata": {
    "_uuid": "3fbf30d7c485bd0e7fce8ca5c9eab524c24c629f"
   },
   "outputs": [
    {
     "data": {
      "text/plain": [
       "Timestamp('2016-01-01 00:00:00')"
      ]
     },
     "execution_count": 8,
     "metadata": {},
     "output_type": "execute_result"
    }
   ],
   "source": [
    "# Establish a starting date for all applications at Home Credit\n",
    "start_date = pd.Timestamp(\"2016-01-01\")\n",
    "start_date"
   ]
  },
  {
   "cell_type": "code",
   "execution_count": 9,
   "metadata": {
    "_uuid": "7f3b55740b78dee6db41aed941d76ecd36079d4c"
   },
   "outputs": [
    {
     "data": {
      "text/html": [
       "<div>\n",
       "<style scoped>\n",
       "    .dataframe tbody tr th:only-of-type {\n",
       "        vertical-align: middle;\n",
       "    }\n",
       "\n",
       "    .dataframe tbody tr th {\n",
       "        vertical-align: top;\n",
       "    }\n",
       "\n",
       "    .dataframe thead th {\n",
       "        text-align: right;\n",
       "    }\n",
       "</style>\n",
       "<table border=\"1\" class=\"dataframe\">\n",
       "  <thead>\n",
       "    <tr style=\"text-align: right;\">\n",
       "      <th></th>\n",
       "      <th>DAYS_CREDIT</th>\n",
       "      <th>DAYS_CREDIT_ENDDATE</th>\n",
       "      <th>DAYS_ENDDATE_FACT</th>\n",
       "      <th>DAYS_CREDIT_UPDATE</th>\n",
       "    </tr>\n",
       "  </thead>\n",
       "  <tbody>\n",
       "    <tr>\n",
       "      <th>0</th>\n",
       "      <td>-857 days</td>\n",
       "      <td>-492 days</td>\n",
       "      <td>-553 days</td>\n",
       "      <td>-155 days</td>\n",
       "    </tr>\n",
       "    <tr>\n",
       "      <th>1</th>\n",
       "      <td>-909 days</td>\n",
       "      <td>-179 days</td>\n",
       "      <td>-877 days</td>\n",
       "      <td>-155 days</td>\n",
       "    </tr>\n",
       "    <tr>\n",
       "      <th>2</th>\n",
       "      <td>-879 days</td>\n",
       "      <td>-514 days</td>\n",
       "      <td>-544 days</td>\n",
       "      <td>-155 days</td>\n",
       "    </tr>\n",
       "    <tr>\n",
       "      <th>3</th>\n",
       "      <td>-1572 days</td>\n",
       "      <td>-1329 days</td>\n",
       "      <td>-1328 days</td>\n",
       "      <td>-155 days</td>\n",
       "    </tr>\n",
       "    <tr>\n",
       "      <th>4</th>\n",
       "      <td>-559 days</td>\n",
       "      <td>902 days</td>\n",
       "      <td>NaT</td>\n",
       "      <td>-6 days</td>\n",
       "    </tr>\n",
       "  </tbody>\n",
       "</table>\n",
       "</div>"
      ],
      "text/plain": [
       "  DAYS_CREDIT DAYS_CREDIT_ENDDATE DAYS_ENDDATE_FACT DAYS_CREDIT_UPDATE\n",
       "0   -857 days           -492 days         -553 days          -155 days\n",
       "1   -909 days           -179 days         -877 days          -155 days\n",
       "2   -879 days           -514 days         -544 days          -155 days\n",
       "3  -1572 days          -1329 days        -1328 days          -155 days\n",
       "4   -559 days            902 days               NaT            -6 days"
      ]
     },
     "execution_count": 9,
     "metadata": {},
     "output_type": "execute_result"
    }
   ],
   "source": [
    "# Convert to timedelta in days\n",
    "for col in ['DAYS_CREDIT', 'DAYS_CREDIT_ENDDATE', 'DAYS_ENDDATE_FACT', 'DAYS_CREDIT_UPDATE']:\n",
    "    bureau[col] = pd.to_timedelta(bureau[col], 'D')\n",
    "    \n",
    "bureau[['DAYS_CREDIT', 'DAYS_CREDIT_ENDDATE', 'DAYS_ENDDATE_FACT', 'DAYS_CREDIT_UPDATE']].head()"
   ]
  },
  {
   "cell_type": "markdown",
   "metadata": {},
   "source": [
    "### These four columns represent different offsets:\n",
    "\n",
    "* `DAYS_CREDIT`: Number of days before current application at Home Credit client applied for loan at other financial institution. We call this the application date, `bureau_credit_application_date` and make it the `time_index` of the entity. \n",
    "* `DAYS_CREDIT_ENDDATE`: Number of days of credit remaining at time of client's application at Home Credit. We call this the ending date, `bureau_credit_end_date`\n",
    "* `DAYS_ENDDATE_FACT`: For closed credits, the number of days before current application at Home Credit that credit at other financial institution ended. We call this the closing date, `bureau_credit_close_date`. \n",
    "* `DAYS_CREDIT_UPDATE`: Number of days before current application at Home Credit that the most recent information about the previous credit arrived. We call this the update date, `bureau_credit_update_date`. "
   ]
  },
  {
   "cell_type": "code",
   "execution_count": 10,
   "metadata": {
    "_uuid": "9f6515d3f508021ea129327d21cf4ff0428682ea"
   },
   "outputs": [],
   "source": [
    "# Create the date columns\n",
    "bureau['bureau_credit_application_date'] = start_date + bureau['DAYS_CREDIT']\n",
    "bureau['bureau_credit_end_date'] = start_date + bureau['DAYS_CREDIT_ENDDATE']\n",
    "bureau['bureau_credit_close_date'] = start_date + bureau['DAYS_ENDDATE_FACT']\n",
    "bureau['bureau_credit_update_date'] = start_date + bureau['DAYS_CREDIT_UPDATE']"
   ]
  },
  {
   "cell_type": "markdown",
   "metadata": {},
   "source": [
    "### Plot for a sanity check\n",
    "\n",
    "To make sure the conversion went as planned, we make a plot showing the distribution of loan lengths."
   ]
  },
  {
   "cell_type": "code",
   "execution_count": 11,
   "metadata": {
    "_uuid": "e35b9c0a31ace5d9b516ec61647bb4e565c92be5"
   },
   "outputs": [],
   "source": [
    "import matplotlib.pyplot as plt\n",
    "import seaborn as sns\n",
    "# Set up default plot styles\n",
    "plt.rcParams['font.size'] = 26\n",
    "plt.style.use('fivethirtyeight')\n",
    "\n",
    "# Drop the time offset columns\n",
    "bureau = bureau.drop(columns = ['DAYS_CREDIT', 'DAYS_CREDIT_ENDDATE', 'DAYS_ENDDATE_FACT', 'DAYS_CREDIT_UPDATE'])\n",
    "\n",
    "plt.figure(figsize = (10, 8))\n",
    "sns.distplot((bureau['bureau_credit_end_date'] - bureau['bureau_credit_application_date']).dropna().dt.days);\n",
    "plt.xlabel('Length of Loan (Days)', size = 24); plt.ylabel('Density', size = 24); plt.title('Loan Length', size = 30);"
   ]
  },
  {
   "cell_type": "markdown",
   "metadata": {},
   "source": [
    "### There are a number of loans that are unreasonably long. Reading through the discussions, other people had noticed this as well. At this point, we just leave in the outliers. We also drop the time offset columns."
   ]
  },
  {
   "cell_type": "markdown",
   "metadata": {},
   "source": [
    "### Bureau Balance\n",
    "\n",
    "The bureau balance dataframe has a `MONTHS_BALANCE` column that we can use as a months offset. The resulting column of dates can be used as a `time_index`."
   ]
  },
  {
   "cell_type": "code",
   "execution_count": 12,
   "metadata": {
    "_uuid": "1b52e6985388321f912bb44cbcf3c1e039a4283e"
   },
   "outputs": [
    {
     "data": {
      "image/png": "[encoded data removed]",
      "text/plain": [
       "<Figure size 432x288 with 1 Axes>"
      ]
     },
     "metadata": {
      "needs_background": "light"
     },
     "output_type": "display_data"
    }
   ],
   "source": [
    "# Convert to timedelta\n",
    "bureau_balance['MONTHS_BALANCE'] = pd.to_timedelta(bureau_balance['MONTHS_BALANCE'], 'M')\n",
    "\n",
    "# Make a date column\n",
    "bureau_balance['bureau_balance_date'] = start_date + bureau_balance['MONTHS_BALANCE']\n",
    "bureau_balance = bureau_balance.drop(columns = ['MONTHS_BALANCE'])\n",
    "\n",
    "# Select one loan and plot\n",
    "example_credit = bureau_balance[bureau_balance['SK_ID_BUREAU'] == 5001709]\n",
    "plt.plot(example_credit['bureau_balance_date'], example_credit['STATUS'], 'ro');\n",
    "plt.title('Loan 5001709 over Time'); plt.xlabel('Date'); plt.ylabel('Status');"
   ]
  },
  {
   "cell_type": "markdown",
   "metadata": {},
   "source": [
    "### Previous Applications\n",
    "\n",
    "The `previous` dataframe holds previous applications at Home Credit. There are a number of time offset columns in this dataset:\n",
    "\n",
    "* `DAYS_DECISION`: number of days before current application at Home Credit that decision was made about previous application. This represent the `time_index` of the data.\n",
    "* `DAYS_FIRST_DRAWING`: number of days before current application at Home Credit that first disbursement was made\n",
    "* `DAYS_FIRST_DUE`: number of days before current application at Home Credit that first due was suppoed to be\n",
    "* `DAYS_LAST_DUE_1ST_VERSION`: number of days before current application at Home Credit that first was??\n",
    "* `DAYS_LAST_DUE`: number of days before current application at Home Credit of last due date of previous application\n",
    "* `DAYS_TERMINATION`: number of days before current application at Home Credit of expected termination\n",
    "\n",
    "We convert all these into timedeltas in a loop and then make time columns."
   ]
  },
  {
   "cell_type": "code",
   "execution_count": 13,
   "metadata": {
    "_uuid": "9e3d05b1f7ff822d38b0de243e1c69e560f0b65e"
   },
   "outputs": [
    {
     "data": {
      "image/png": "[encoded data removed]",
      "text/plain": [
       "<Figure size 576x432 with 1 Axes>"
      ]
     },
     "metadata": {
      "needs_background": "light"
     },
     "output_type": "display_data"
    }
   ],
   "source": [
    "# Convert to timedeltas in days\n",
    "for col in ['DAYS_DECISION', 'DAYS_FIRST_DRAWING', 'DAYS_FIRST_DUE', 'DAYS_LAST_DUE_1ST_VERSION', 'DAYS_LAST_DUE', 'DAYS_TERMINATION']:\n",
    "    previous[col] = pd.to_timedelta(previous[col], 'D')\n",
    "    \n",
    "# Make date columns\n",
    "previous['previous_decision_date'] = start_date + previous['DAYS_DECISION']\n",
    "previous['previous_drawing_date'] = start_date + previous['DAYS_FIRST_DRAWING']\n",
    "previous['previous_first_due_date'] = start_date + previous['DAYS_FIRST_DUE']\n",
    "previous['previous_last_duefirst_date'] = start_date + previous['DAYS_LAST_DUE_1ST_VERSION']\n",
    "previous['previous_last_due_date'] = start_date + previous['DAYS_LAST_DUE']\n",
    "previous['previous_termination_date'] = start_date + previous['DAYS_TERMINATION']\n",
    "\n",
    "# Drop the time offset columns\n",
    "previous = previous.drop(columns = ['DAYS_DECISION', 'DAYS_FIRST_DRAWING', 'DAYS_FIRST_DUE', 'DAYS_LAST_DUE_1ST_VERSION', 'DAYS_LAST_DUE', 'DAYS_TERMINATION'])\n",
    "\n",
    "plt.figure(figsize = (8, 6))\n",
    "example_client = previous[previous['SK_ID_CURR'] == 100007]\n",
    "plt.plot(example_client['previous_decision_date'], example_client['AMT_CREDIT'], 'ro')\n",
    "plt.title('Client 100007 Previous Loan Amounts'); plt.xlabel('Date'); plt.ylabel('Credit Amount');"
   ]
  },
  {
   "cell_type": "markdown",
   "metadata": {},
   "source": [
    "### Previous Credit and Cash\n",
    "\n",
    "The `credit_card_balance` and `POS_CASH_balance` each have a `MONTHS_BALANCE` column with the month offset. This is the number of months before the current application at Home Credit of the previous application record. These represent the `time_index` of the data. "
   ]
  },
  {
   "cell_type": "code",
   "execution_count": 14,
   "metadata": {
    "_uuid": "62b9d330933fbe74016bbb7f4980f8fc5e192ace"
   },
   "outputs": [
    {
     "data": {
      "image/png": "[encoded data removed]",
      "text/plain": [
       "<Figure size 432x288 with 1 Axes>"
      ]
     },
     "metadata": {
      "needs_background": "light"
     },
     "output_type": "display_data"
    }
   ],
   "source": [
    "# Convert to timedelta objects\n",
    "credit['MONTHS_BALANCE'] = pd.to_timedelta(credit['MONTHS_BALANCE'], 'M')\n",
    "cash['MONTHS_BALANCE'] = pd.to_timedelta(cash['MONTHS_BALANCE'], 'M')\n",
    "\n",
    "# Make a date column\n",
    "credit['credit_balance_date'] = start_date + credit['MONTHS_BALANCE']\n",
    "credit = credit.drop(columns = ['MONTHS_BALANCE'])\n",
    "\n",
    "# Make a date column\n",
    "cash['cash_balance_date'] = start_date + cash['MONTHS_BALANCE']\n",
    "cash = cash.drop(columns = ['MONTHS_BALANCE'])\n",
    "\n",
    "# Select on loan and plot\n",
    "example_credit = cash[cash['SK_ID_PREV'] == 1369693]\n",
    "\n",
    "plt.plot(example_credit['cash_balance_date'], example_credit['NAME_CONTRACT_STATUS'], 'ro');\n",
    "plt.title('Loan 1369693 over Time'); plt.xlabel('Date'); plt.ylabel('Contract Status');"
   ]
  },
  {
   "cell_type": "markdown",
   "metadata": {},
   "source": [
    "### Installments Payments \n",
    "\n",
    "The `installments_payments` data contains information on each payment made on the previous loans at Home Credit. It has two date offset columns:\n",
    "\n",
    "* `DAYS_INSTALMENT`: number of days before current application at Home Credit that previous installment was supposed to be paid\n",
    "* `DAYS_ENTRY_PAYMENT`: number of days before current application at Home Credit that previous installment was actually paid\n",
    "\n",
    "The process is: convert to timedeltas and then make time columns. The DAYS_INSTALMENT will serve as the `time_index`. "
   ]
  },
  {
   "cell_type": "code",
   "execution_count": 15,
   "metadata": {
    "_uuid": "e5b716ca0aecb467c3c368dbafc0a1f970325033"
   },
   "outputs": [
    {
     "data": {
      "image/png": "[encoded data removed]",
      "text/plain": [
       "<Figure size 432x288 with 1 Axes>"
      ]
     },
     "metadata": {
      "needs_background": "light"
     },
     "output_type": "display_data"
    }
   ],
   "source": [
    "# Conver to time delta object\n",
    "installments['DAYS_INSTALMENT'] = pd.to_timedelta(installments['DAYS_INSTALMENT'], 'D')\n",
    "installments['DAYS_ENTRY_PAYMENT'] = pd.to_timedelta(installments['DAYS_ENTRY_PAYMENT'], 'D')\n",
    "\n",
    "# Create time column and drop\n",
    "installments['installments_due_date'] = start_date + installments['DAYS_INSTALMENT']\n",
    "installments = installments.drop(columns = ['DAYS_INSTALMENT'])\n",
    "\n",
    "installments['installments_paid_date'] = start_date + installments['DAYS_ENTRY_PAYMENT']\n",
    "installments = installments.drop(columns = ['DAYS_ENTRY_PAYMENT'])\n",
    "\n",
    "# Select one loan and plot\n",
    "example_credit = installments[installments['SK_ID_PREV'] == 1369693]\n",
    "plt.plot((example_credit['installments_due_date'] - example_credit['installments_paid_date']).dt.days, example_credit['AMT_INSTALMENT'], 'ro');\n",
    "plt.title('Loan 1369693'); plt.xlabel('Days Paid Early'); plt.ylabel('Installment Amount');"
   ]
  },
  {
   "cell_type": "markdown",
   "metadata": {},
   "source": [
    "### Applying Featuretools\n",
    "\n",
    "We now start making features using the time columns. We create an entityset named clients much as before, but now we have time variables that we can use."
   ]
  },
  {
   "cell_type": "code",
   "execution_count": 16,
   "metadata": {
    "_uuid": "968ea4e675db3f7066b275fd688f2cba536c7d73"
   },
   "outputs": [],
   "source": [
    "# Make an entityset\n",
    "es = ft.EntitySet(id = 'clients')"
   ]
  },
  {
   "cell_type": "markdown",
   "metadata": {},
   "source": [
    "### Entities\n",
    "\n",
    "When creating the entities, we specify the `index`, the `time_index` (if present), and the `variable_types` (if they need to be specified). "
   ]
  },
  {
   "cell_type": "code",
   "execution_count": 17,
   "metadata": {
    "_uuid": "6e31e8014ffc780c83ff3d9aaf8644bef35157c5"
   },
   "outputs": [],
   "source": [
    "# Entities with a unique index\n",
    "es = es.entity_from_dataframe(entity_id = 'app_train', dataframe = app_train, \n",
    "                              index = 'SK_ID_CURR', variable_types = app_types)\n",
    "\n",
    "es = es.entity_from_dataframe(entity_id = 'app_test', dataframe = app_test, \n",
    "                              index = 'SK_ID_CURR', variable_types = app_test_types)\n",
    "\n",
    "es = es.entity_from_dataframe(entity_id = 'bureau', dataframe = bureau, \n",
    "                              index = 'SK_ID_BUREAU', time_index='bureau_credit_application_date')\n",
    "\n",
    "es = es.entity_from_dataframe(entity_id = 'previous', dataframe = previous, \n",
    "                              index = 'SK_ID_PREV', time_index = 'previous_decision_date',\n",
    "                              variable_types = previous_types)\n",
    "\n",
    "# Entities that do not have a unique index\n",
    "es = es.entity_from_dataframe(entity_id = 'bureau_balance', dataframe = bureau_balance, \n",
    "                              make_index = True, index = 'bb_index',\n",
    "                              time_index = 'bureau_balance_date')\n",
    "\n",
    "es = es.entity_from_dataframe(entity_id = 'cash', dataframe = cash, \n",
    "                              make_index = True, index = 'cash_index',\n",
    "                              time_index = 'cash_balance_date')\n",
    "\n",
    "es = es.entity_from_dataframe(entity_id = 'installments', dataframe = installments,\n",
    "                              make_index = True, index = 'installments_index',\n",
    "                              time_index = 'installments_paid_date')\n",
    "\n",
    "es = es.entity_from_dataframe(entity_id = 'credit', dataframe = credit,\n",
    "                              make_index = True, index = 'credit_index',\n",
    "                              time_index = 'credit_balance_date')"
   ]
  },
  {
   "cell_type": "markdown",
   "metadata": {},
   "source": [
    "### Relationships\n",
    "\n",
    "The relationships between tables has not changed since the previous implementation."
   ]
  },
  {
   "cell_type": "code",
   "execution_count": 18,
   "metadata": {
    "_uuid": "2d793ffcb05bd6c20ef098fc78437e00859d3d3f"
   },
   "outputs": [
    {
     "data": {
      "text/plain": [
       "Entityset: clients\n",
       "  Entities:\n",
       "    app_train [Rows: 1001, Columns: 122]\n",
       "    app_test [Rows: 1001, Columns: 121]\n",
       "    bureau [Rows: 1001, Columns: 17]\n",
       "    previous [Rows: 1001, Columns: 37]\n",
       "    bureau_balance [Rows: 1001, Columns: 4]\n",
       "    cash [Rows: 1001, Columns: 9]\n",
       "    installments [Rows: 1001, Columns: 9]\n",
       "    credit [Rows: 1001, Columns: 24]\n",
       "  Relationships:\n",
       "    bureau.SK_ID_CURR -> app_train.SK_ID_CURR\n",
       "    bureau.SK_ID_CURR -> app_test.SK_ID_CURR\n",
       "    bureau_balance.SK_ID_BUREAU -> bureau.SK_ID_BUREAU\n",
       "    previous.SK_ID_CURR -> app_train.SK_ID_CURR\n",
       "    previous.SK_ID_CURR -> app_test.SK_ID_CURR\n",
       "    cash.SK_ID_PREV -> previous.SK_ID_PREV\n",
       "    installments.SK_ID_PREV -> previous.SK_ID_PREV\n",
       "    credit.SK_ID_PREV -> previous.SK_ID_PREV"
      ]
     },
     "execution_count": 18,
     "metadata": {},
     "output_type": "execute_result"
    }
   ],
   "source": [
    "# Relationship between app and bureau\n",
    "r_app_bureau = ft.Relationship(es['app_train']['SK_ID_CURR'], es['bureau']['SK_ID_CURR'])\n",
    "\n",
    "# Test Relationship between app and bureau\n",
    "r_test_app_bureau = ft.Relationship(es['app_test']['SK_ID_CURR'], es['bureau']['SK_ID_CURR'])\n",
    "\n",
    "# Relationship between bureau and bureau balance\n",
    "r_bureau_balance = ft.Relationship(es['bureau']['SK_ID_BUREAU'], es['bureau_balance']['SK_ID_BUREAU'])\n",
    "\n",
    "# Relationship between current app and previous apps\n",
    "r_app_previous = ft.Relationship(es['app_train']['SK_ID_CURR'], es['previous']['SK_ID_CURR'])\n",
    "\n",
    "# Test Relationship between current app and previous apps\n",
    "r_test_app_previous = ft.Relationship(es['app_test']['SK_ID_CURR'], es['previous']['SK_ID_CURR'])\n",
    "\n",
    "# Relationships between previous apps and cash, installments, and credit\n",
    "r_previous_cash = ft.Relationship(es['previous']['SK_ID_PREV'], es['cash']['SK_ID_PREV'])\n",
    "r_previous_installments = ft.Relationship(es['previous']['SK_ID_PREV'], es['installments']['SK_ID_PREV'])\n",
    "r_previous_credit = ft.Relationship(es['previous']['SK_ID_PREV'], es['credit']['SK_ID_PREV'])\n",
    "\n",
    "# Add in the defined relationships\n",
    "es = es.add_relationships([r_app_bureau, r_test_app_bureau, r_bureau_balance, r_app_previous, r_test_app_previous,\n",
    "                           r_previous_cash, r_previous_installments, r_previous_credit])\n",
    "# Print out the EntitySet\n",
    "es"
   ]
  },
  {
   "cell_type": "markdown",
   "metadata": {},
   "source": [
    "### Time Features\n",
    "\n",
    "We look at Time features we can make from the new time variables. Because these times are relative and not absolute, we are only interested in values that show change over time, such as trend or cumulative sum. We would not want to calculate values like the year or month since we choose an arbitrary starting date. \n",
    "\n",
    "We pass in a `chunk_size` to the `dfs` call which specifies the number of rows (if an integer) or the fraction or rows to use in each chunk (if a float). This can help to optimize the `dfs` procedure, and the `chunk_size` can have a [significant effect on the run time](https://docs.featuretools.com/guides/performance.html). Here we use a chunk size equal to the number of rows in the data so all the results will be calculated in one pass. We also avoid making any features with the testing data, so we pass in `ignore_entities = [app_test]`."
   ]
  },
  {
   "cell_type": "code",
   "execution_count": 19,
   "metadata": {
    "_uuid": "a66fc6efe5ad82c84b8ebb30a7e2552f90b75a2b"
   },
   "outputs": [
    {
     "name": "stdout",
     "output_type": "stream",
     "text": [
      "Built 340 features\n",
      "Elapsed: 00:16 | Remaining: 00:00 | Progress: 100%|███████████████████████████████████████████████| Calculated: 1/1 chunks\n"
     ]
    }
   ],
   "source": [
    "time_features, time_feature_names = ft.dfs(entityset = es, target_entity = 'app_train', \n",
    "                                           trans_primitives = ['cum_sum', 'time_since_previous'], max_depth = 2,\n",
    "                                           agg_primitives = ['trend'] ,\n",
    "                                           features_only = False, verbose = True,\n",
    "                                           chunk_size = len(app_train),\n",
    "                                           ignore_entities = ['app_test'])"
   ]
  },
  {
   "cell_type": "code",
   "execution_count": 20,
   "metadata": {
    "_uuid": "d1e856e2d5069b7536337096ca281d70a1aecbcf"
   },
   "outputs": [
    {
     "data": {
      "text/html": [
       "<div>\n",
       "<style scoped>\n",
       "    .dataframe tbody tr th:only-of-type {\n",
       "        vertical-align: middle;\n",
       "    }\n",
       "\n",
       "    .dataframe tbody tr th {\n",
       "        vertical-align: top;\n",
       "    }\n",
       "\n",
       "    .dataframe thead th {\n",
       "        text-align: right;\n",
       "    }\n",
       "</style>\n",
       "<table border=\"1\" class=\"dataframe\">\n",
       "  <thead>\n",
       "    <tr style=\"text-align: right;\">\n",
       "      <th></th>\n",
       "      <th>CUM_SUM(TREND(credit.SK_DPD_DEF, credit_balance_date))</th>\n",
       "      <th>CUM_SUM(TREND(credit.AMT_DRAWINGS_CURRENT, credit_balance_date))</th>\n",
       "      <th>CUM_SUM(TREND(credit.AMT_INST_MIN_REGULARITY, credit_balance_date))</th>\n",
       "      <th>CUM_SUM(TREND(credit.AMT_RECEIVABLE_PRINCIPAL, credit_balance_date))</th>\n",
       "      <th>CUM_SUM(TREND(credit.AMT_DRAWINGS_POS_CURRENT, credit_balance_date))</th>\n",
       "      <th>CUM_SUM(TREND(credit.CNT_DRAWINGS_ATM_CURRENT, credit_balance_date))</th>\n",
       "      <th>CUM_SUM(TREND(credit.CNT_INSTALMENT_MATURE_CUM, credit_balance_date))</th>\n",
       "      <th>CUM_SUM(TREND(credit.AMT_RECIVABLE, credit_balance_date))</th>\n",
       "      <th>CUM_SUM(TREND(credit.CNT_DRAWINGS_CURRENT, credit_balance_date))</th>\n",
       "      <th>CUM_SUM(TREND(credit.AMT_CREDIT_LIMIT_ACTUAL, credit_balance_date))</th>\n",
       "    </tr>\n",
       "    <tr>\n",
       "      <th>SK_ID_CURR</th>\n",
       "      <th></th>\n",
       "      <th></th>\n",
       "      <th></th>\n",
       "      <th></th>\n",
       "      <th></th>\n",
       "      <th></th>\n",
       "      <th></th>\n",
       "      <th></th>\n",
       "      <th></th>\n",
       "      <th></th>\n",
       "    </tr>\n",
       "  </thead>\n",
       "  <tbody>\n",
       "    <tr>\n",
       "      <th>100002</th>\n",
       "      <td>NaN</td>\n",
       "      <td>NaN</td>\n",
       "      <td>NaN</td>\n",
       "      <td>NaN</td>\n",
       "      <td>NaN</td>\n",
       "      <td>NaN</td>\n",
       "      <td>NaN</td>\n",
       "      <td>NaN</td>\n",
       "      <td>NaN</td>\n",
       "      <td>NaN</td>\n",
       "    </tr>\n",
       "    <tr>\n",
       "      <th>100003</th>\n",
       "      <td>NaN</td>\n",
       "      <td>NaN</td>\n",
       "      <td>NaN</td>\n",
       "      <td>NaN</td>\n",
       "      <td>NaN</td>\n",
       "      <td>NaN</td>\n",
       "      <td>NaN</td>\n",
       "      <td>NaN</td>\n",
       "      <td>NaN</td>\n",
       "      <td>NaN</td>\n",
       "    </tr>\n",
       "    <tr>\n",
       "      <th>100004</th>\n",
       "      <td>NaN</td>\n",
       "      <td>NaN</td>\n",
       "      <td>NaN</td>\n",
       "      <td>NaN</td>\n",
       "      <td>NaN</td>\n",
       "      <td>NaN</td>\n",
       "      <td>NaN</td>\n",
       "      <td>NaN</td>\n",
       "      <td>NaN</td>\n",
       "      <td>NaN</td>\n",
       "    </tr>\n",
       "    <tr>\n",
       "      <th>100006</th>\n",
       "      <td>0.0</td>\n",
       "      <td>0.0</td>\n",
       "      <td>0.0</td>\n",
       "      <td>0.0</td>\n",
       "      <td>NaN</td>\n",
       "      <td>NaN</td>\n",
       "      <td>0.0</td>\n",
       "      <td>0.0</td>\n",
       "      <td>0.0</td>\n",
       "      <td>0.0</td>\n",
       "    </tr>\n",
       "    <tr>\n",
       "      <th>100007</th>\n",
       "      <td>NaN</td>\n",
       "      <td>NaN</td>\n",
       "      <td>NaN</td>\n",
       "      <td>NaN</td>\n",
       "      <td>NaN</td>\n",
       "      <td>NaN</td>\n",
       "      <td>NaN</td>\n",
       "      <td>NaN</td>\n",
       "      <td>NaN</td>\n",
       "      <td>NaN</td>\n",
       "    </tr>\n",
       "  </tbody>\n",
       "</table>\n",
       "</div>"
      ],
      "text/plain": [
       "            CUM_SUM(TREND(credit.SK_DPD_DEF, credit_balance_date))  \\\n",
       "SK_ID_CURR                                                           \n",
       "100002                                                    NaN        \n",
       "100003                                                    NaN        \n",
       "100004                                                    NaN        \n",
       "100006                                                    0.0        \n",
       "100007                                                    NaN        \n",
       "\n",
       "            CUM_SUM(TREND(credit.AMT_DRAWINGS_CURRENT, credit_balance_date))  \\\n",
       "SK_ID_CURR                                                                     \n",
       "100002                                                    NaN                  \n",
       "100003                                                    NaN                  \n",
       "100004                                                    NaN                  \n",
       "100006                                                    0.0                  \n",
       "100007                                                    NaN                  \n",
       "\n",
       "            CUM_SUM(TREND(credit.AMT_INST_MIN_REGULARITY, credit_balance_date))  \\\n",
       "SK_ID_CURR                                                                        \n",
       "100002                                                    NaN                     \n",
       "100003                                                    NaN                     \n",
       "100004                                                    NaN                     \n",
       "100006                                                    0.0                     \n",
       "100007                                                    NaN                     \n",
       "\n",
       "            CUM_SUM(TREND(credit.AMT_RECEIVABLE_PRINCIPAL, credit_balance_date))  \\\n",
       "SK_ID_CURR                                                                         \n",
       "100002                                                    NaN                      \n",
       "100003                                                    NaN                      \n",
       "100004                                                    NaN                      \n",
       "100006                                                    0.0                      \n",
       "100007                                                    NaN                      \n",
       "\n",
       "            CUM_SUM(TREND(credit.AMT_DRAWINGS_POS_CURRENT, credit_balance_date))  \\\n",
       "SK_ID_CURR                                                                         \n",
       "100002                                                    NaN                      \n",
       "100003                                                    NaN                      \n",
       "100004                                                    NaN                      \n",
       "100006                                                    NaN                      \n",
       "100007                                                    NaN                      \n",
       "\n",
       "            CUM_SUM(TREND(credit.CNT_DRAWINGS_ATM_CURRENT, credit_balance_date))  \\\n",
       "SK_ID_CURR                                                                         \n",
       "100002                                                    NaN                      \n",
       "100003                                                    NaN                      \n",
       "100004                                                    NaN                      \n",
       "100006                                                    NaN                      \n",
       "100007                                                    NaN                      \n",
       "\n",
       "            CUM_SUM(TREND(credit.CNT_INSTALMENT_MATURE_CUM, credit_balance_date))  \\\n",
       "SK_ID_CURR                                                                          \n",
       "100002                                                    NaN                       \n",
       "100003                                                    NaN                       \n",
       "100004                                                    NaN                       \n",
       "100006                                                    0.0                       \n",
       "100007                                                    NaN                       \n",
       "\n",
       "            CUM_SUM(TREND(credit.AMT_RECIVABLE, credit_balance_date))  \\\n",
       "SK_ID_CURR                                                              \n",
       "100002                                                    NaN           \n",
       "100003                                                    NaN           \n",
       "100004                                                    NaN           \n",
       "100006                                                    0.0           \n",
       "100007                                                    NaN           \n",
       "\n",
       "            CUM_SUM(TREND(credit.CNT_DRAWINGS_CURRENT, credit_balance_date))  \\\n",
       "SK_ID_CURR                                                                     \n",
       "100002                                                    NaN                  \n",
       "100003                                                    NaN                  \n",
       "100004                                                    NaN                  \n",
       "100006                                                    0.0                  \n",
       "100007                                                    NaN                  \n",
       "\n",
       "            CUM_SUM(TREND(credit.AMT_CREDIT_LIMIT_ACTUAL, credit_balance_date))  \n",
       "SK_ID_CURR                                                                       \n",
       "100002                                                    NaN                    \n",
       "100003                                                    NaN                    \n",
       "100004                                                    NaN                    \n",
       "100006                                                    0.0                    \n",
       "100007                                                    NaN                    "
      ]
     },
     "execution_count": 20,
     "metadata": {},
     "output_type": "execute_result"
    }
   ],
   "source": [
    "time_features.iloc[:, -10:].head()"
   ]
  },
  {
   "cell_type": "markdown",
   "metadata": {},
   "source": [
    "### We visualize one of these new variables. We can look at the trend in credit size over time. A positive value indicates that the loan size for the client is increasing over time. "
   ]
  },
  {
   "cell_type": "code",
   "execution_count": 21,
   "metadata": {
    "_uuid": "5675ebebc6ae1bba9c0fddf2422f69d1176148f4"
   },
   "outputs": [
    {
     "data": {
      "image/png": "[encoded data removed]",
      "text/plain": [
       "<Figure size 576x432 with 1 Axes>"
      ]
     },
     "metadata": {
      "needs_background": "light"
     },
     "output_type": "display_data"
    }
   ],
   "source": [
    "plt.figure(figsize = (8, 6))\n",
    "plt.hist(time_features['TREND(bureau.AMT_CREDIT_SUM, bureau_credit_application_date)'].dropna(), edgecolor = 'k');\n",
    "plt.xlabel('TREND(bureau.AMT_CREDIT_SUM, bureau_credit_application_date)'); plt.ylabel('Counts'); plt.title('Distribution of Trends in Credit Sum');"
   ]
  },
  {
   "cell_type": "code",
   "execution_count": 22,
   "metadata": {
    "_uuid": "a70f6f3ce82ebbd3e1595123359f7b2d76622b8a"
   },
   "outputs": [
    {
     "data": {
      "image/png": "[encoded data removed]",
      "text/plain": [
       "<Figure size 576x432 with 1 Axes>"
      ]
     },
     "metadata": {
      "needs_background": "light"
     },
     "output_type": "display_data"
    }
   ],
   "source": [
    "plt.figure(figsize = (8, 6))\n",
    "plt.hist(time_features['TREND(previous.AMT_APPLICATION, previous_decision_date)'].dropna(), edgecolor = 'k');\n",
    "plt.xlabel('TREND(previous.AMT_APPLICATION, previous_decision_date)'); plt.ylabel('Counts'); plt.title('Distribution of Trends in Amount of Application');"
   ]
  },
  {
   "cell_type": "code",
   "execution_count": 23,
   "metadata": {
    "_uuid": "09743addd4fe66a1fb37f86178bf471a98c40b4b"
   },
   "outputs": [
    {
     "data": {
      "text/plain": [
       "[<Feature: CUM_SUM(TREND(credit.SK_DPD_DEF, credit_balance_date))>,\n",
       " <Feature: CUM_SUM(TREND(credit.AMT_DRAWINGS_CURRENT, credit_balance_date))>,\n",
       " <Feature: CUM_SUM(TREND(credit.AMT_INST_MIN_REGULARITY, credit_balance_date))>,\n",
       " <Feature: CUM_SUM(TREND(credit.AMT_RECEIVABLE_PRINCIPAL, credit_balance_date))>,\n",
       " <Feature: CUM_SUM(TREND(credit.AMT_DRAWINGS_POS_CURRENT, credit_balance_date))>,\n",
       " <Feature: CUM_SUM(TREND(credit.CNT_DRAWINGS_ATM_CURRENT, credit_balance_date))>,\n",
       " <Feature: CUM_SUM(TREND(credit.CNT_INSTALMENT_MATURE_CUM, credit_balance_date))>,\n",
       " <Feature: CUM_SUM(TREND(credit.AMT_RECIVABLE, credit_balance_date))>,\n",
       " <Feature: CUM_SUM(TREND(credit.CNT_DRAWINGS_CURRENT, credit_balance_date))>,\n",
       " <Feature: CUM_SUM(TREND(credit.AMT_CREDIT_LIMIT_ACTUAL, credit_balance_date))>]"
      ]
     },
     "execution_count": 23,
     "metadata": {},
     "output_type": "execute_result"
    }
   ],
   "source": [
    "time_feature_names[-10:]"
   ]
  },
  {
   "cell_type": "markdown",
   "metadata": {},
   "source": [
    "### Interesting Values\n",
    "\n",
    "Another method we use in featuretools is \"interesting values.\" Specifying interesting values calculates new features conditioned on values of existing features. For example, we can create new features that are conditioned on the value of `NAME_CONTRACT_STATUS` in the `previous` dataframe. Each stat will be calculated for the specified interesting values which can be useful when we know that there are certain indicators that are of greater importance in the data. "
   ]
  },
  {
   "cell_type": "code",
   "execution_count": 24,
   "metadata": {
    "_uuid": "4c68349dee9dadccb7b4e2c6249769fad2061949"
   },
   "outputs": [
    {
     "data": {
      "text/plain": [
       "Approved        594\n",
       "Refused         206\n",
       "Canceled        186\n",
       "Unused offer     15\n",
       "Name: NAME_CONTRACT_STATUS, dtype: int64"
      ]
     },
     "execution_count": 24,
     "metadata": {},
     "output_type": "execute_result"
    }
   ],
   "source": [
    "previous['NAME_CONTRACT_STATUS'].value_counts()"
   ]
  },
  {
   "cell_type": "markdown",
   "metadata": {},
   "source": [
    "### We assign interesting values to the variable and then specify the `where_primitives` in the `dfs` call. "
   ]
  },
  {
   "cell_type": "code",
   "execution_count": 25,
   "metadata": {
    "_uuid": "34a29865f9a535e618699f67848560d53202bc04"
   },
   "outputs": [
    {
     "name": "stdout",
     "output_type": "stream",
     "text": [
      "Built 355 features\n",
      "Elapsed: 00:01 | Remaining: 00:00 | Progress: 100%|███████████████████████████████████████████████| Calculated: 1/1 chunks\n"
     ]
    }
   ],
   "source": [
    "# Assign interesting values\n",
    "es['previous']['NAME_CONTRACT_STATUS'].interesting_values = ['Approved', 'Refused', 'Canceled']\n",
    "\n",
    "# Calculate the features with intereseting values\n",
    "interesting_features, interesting_feature_names = ft.dfs(entityset=es, target_entity='app_train', max_depth = 1, \n",
    "                                                         where_primitives = ['mean', 'mode'], \n",
    "                                                         trans_primitives=[], features_only = False, verbose = True,\n",
    "                                                         chunk_size = len(app_train),\n",
    "                                                         ignore_entities = ['app_test'])"
   ]
  },
  {
   "cell_type": "code",
   "execution_count": 26,
   "metadata": {
    "_uuid": "fa9c22d154a9d6e51c644e6d4fe7cd3c8bf92297"
   },
   "outputs": [
    {
     "data": {
      "text/html": [
       "<div>\n",
       "<style scoped>\n",
       "    .dataframe tbody tr th:only-of-type {\n",
       "        vertical-align: middle;\n",
       "    }\n",
       "\n",
       "    .dataframe tbody tr th {\n",
       "        vertical-align: top;\n",
       "    }\n",
       "\n",
       "    .dataframe thead th {\n",
       "        text-align: right;\n",
       "    }\n",
       "</style>\n",
       "<table border=\"1\" class=\"dataframe\">\n",
       "  <thead>\n",
       "    <tr style=\"text-align: right;\">\n",
       "      <th></th>\n",
       "      <th>MODE(previous.NAME_YIELD_GROUP WHERE NAME_CONTRACT_STATUS = Refused)</th>\n",
       "      <th>MODE(previous.NAME_YIELD_GROUP WHERE NAME_CONTRACT_STATUS = Approved)</th>\n",
       "      <th>MODE(previous.NAME_YIELD_GROUP WHERE NAME_CONTRACT_STATUS = Canceled)</th>\n",
       "      <th>MODE(previous.PRODUCT_COMBINATION WHERE NAME_CONTRACT_STATUS = Refused)</th>\n",
       "      <th>MODE(previous.PRODUCT_COMBINATION WHERE NAME_CONTRACT_STATUS = Approved)</th>\n",
       "      <th>MODE(previous.PRODUCT_COMBINATION WHERE NAME_CONTRACT_STATUS = Canceled)</th>\n",
       "    </tr>\n",
       "    <tr>\n",
       "      <th>SK_ID_CURR</th>\n",
       "      <th></th>\n",
       "      <th></th>\n",
       "      <th></th>\n",
       "      <th></th>\n",
       "      <th></th>\n",
       "      <th></th>\n",
       "    </tr>\n",
       "  </thead>\n",
       "  <tbody>\n",
       "    <tr>\n",
       "      <th>100002</th>\n",
       "      <td>NaN</td>\n",
       "      <td>low_normal</td>\n",
       "      <td>NaN</td>\n",
       "      <td>NaN</td>\n",
       "      <td>POS other with interest</td>\n",
       "      <td>NaN</td>\n",
       "    </tr>\n",
       "    <tr>\n",
       "      <th>100003</th>\n",
       "      <td>NaN</td>\n",
       "      <td>middle</td>\n",
       "      <td>NaN</td>\n",
       "      <td>NaN</td>\n",
       "      <td>Cash X-Sell: low</td>\n",
       "      <td>NaN</td>\n",
       "    </tr>\n",
       "    <tr>\n",
       "      <th>100004</th>\n",
       "      <td>NaN</td>\n",
       "      <td>middle</td>\n",
       "      <td>NaN</td>\n",
       "      <td>NaN</td>\n",
       "      <td>POS mobile without interest</td>\n",
       "      <td>NaN</td>\n",
       "    </tr>\n",
       "    <tr>\n",
       "      <th>100006</th>\n",
       "      <td>low_normal</td>\n",
       "      <td>high</td>\n",
       "      <td>XNA</td>\n",
       "      <td>Cash X-Sell: low</td>\n",
       "      <td>Card X-Sell</td>\n",
       "      <td>Cash</td>\n",
       "    </tr>\n",
       "    <tr>\n",
       "      <th>100007</th>\n",
       "      <td>NaN</td>\n",
       "      <td>high</td>\n",
       "      <td>NaN</td>\n",
       "      <td>NaN</td>\n",
       "      <td>Cash X-Sell: middle</td>\n",
       "      <td>NaN</td>\n",
       "    </tr>\n",
       "  </tbody>\n",
       "</table>\n",
       "</div>"
      ],
      "text/plain": [
       "           MODE(previous.NAME_YIELD_GROUP WHERE NAME_CONTRACT_STATUS = Refused)  \\\n",
       "SK_ID_CURR                                                                        \n",
       "100002                                                    NaN                     \n",
       "100003                                                    NaN                     \n",
       "100004                                                    NaN                     \n",
       "100006                                             low_normal                     \n",
       "100007                                                    NaN                     \n",
       "\n",
       "           MODE(previous.NAME_YIELD_GROUP WHERE NAME_CONTRACT_STATUS = Approved)  \\\n",
       "SK_ID_CURR                                                                         \n",
       "100002                                             low_normal                      \n",
       "100003                                                 middle                      \n",
       "100004                                                 middle                      \n",
       "100006                                                   high                      \n",
       "100007                                                   high                      \n",
       "\n",
       "           MODE(previous.NAME_YIELD_GROUP WHERE NAME_CONTRACT_STATUS = Canceled)  \\\n",
       "SK_ID_CURR                                                                         \n",
       "100002                                                    NaN                      \n",
       "100003                                                    NaN                      \n",
       "100004                                                    NaN                      \n",
       "100006                                                    XNA                      \n",
       "100007                                                    NaN                      \n",
       "\n",
       "           MODE(previous.PRODUCT_COMBINATION WHERE NAME_CONTRACT_STATUS = Refused)  \\\n",
       "SK_ID_CURR                                                                           \n",
       "100002                                                    NaN                        \n",
       "100003                                                    NaN                        \n",
       "100004                                                    NaN                        \n",
       "100006                                       Cash X-Sell: low                        \n",
       "100007                                                    NaN                        \n",
       "\n",
       "           MODE(previous.PRODUCT_COMBINATION WHERE NAME_CONTRACT_STATUS = Approved)  \\\n",
       "SK_ID_CURR                                                                            \n",
       "100002                                POS other with interest                         \n",
       "100003                                       Cash X-Sell: low                         \n",
       "100004                            POS mobile without interest                         \n",
       "100006                                            Card X-Sell                         \n",
       "100007                                    Cash X-Sell: middle                         \n",
       "\n",
       "           MODE(previous.PRODUCT_COMBINATION WHERE NAME_CONTRACT_STATUS = Canceled)  \n",
       "SK_ID_CURR                                                                           \n",
       "100002                                                    NaN                        \n",
       "100003                                                    NaN                        \n",
       "100004                                                    NaN                        \n",
       "100006                                                   Cash                        \n",
       "100007                                                    NaN                        "
      ]
     },
     "execution_count": 26,
     "metadata": {},
     "output_type": "execute_result"
    }
   ],
   "source": [
    "interesting_features.iloc[:, -6:, ].head()"
   ]
  },
  {
   "cell_type": "markdown",
   "metadata": {},
   "source": [
    "### One of the features is `MEAN(previous.CNT_PAYMENT WHERE NAME_CONTRACT_STATUS = Approved)`. This shows the average \"term of previous credit\" on previous loans conditioned on the previous loan being approved. We compare the distribution of this feature to the `MEAN(previous.CNT_PAYMENT WHERE NAME_CONTRACT_STATUS = Canceled)` to see how these loans differ."
   ]
  },
  {
   "cell_type": "code",
   "execution_count": 27,
   "metadata": {
    "_uuid": "95c7073ad8a4b239b557cc4a4ac85ff86dc9ed67"
   },
   "outputs": [
    {
     "data": {
      "image/png": "[encoded data removed]",
      "text/plain": [
       "<Figure size 720x576 with 1 Axes>"
      ]
     },
     "metadata": {
      "needs_background": "light"
     },
     "output_type": "display_data"
    }
   ],
   "source": [
    "plt.figure(figsize = (10, 8))\n",
    "sns.kdeplot(interesting_features['MEAN(previous.CNT_PAYMENT WHERE NAME_CONTRACT_STATUS = Approved)'].dropna(), label = 'Approved')\n",
    "sns.kdeplot(interesting_features['MEAN(previous.CNT_PAYMENT WHERE NAME_CONTRACT_STATUS = Canceled)'].dropna(), label = 'Canceled')\n",
    "plt.xlabel('MEAN(previous.CNT_PAYMENT)'); plt.ylabel('Density'); plt.title('Average Term of Previous Credit');"
   ]
  },
  {
   "cell_type": "code",
   "execution_count": 28,
   "metadata": {
    "_uuid": "7654d838f5e9188f951f4034dc7c86ca676813b3"
   },
   "outputs": [
    {
     "data": {
      "image/png": "[encoded data removed]",
      "text/plain": [
       "<Figure size 1440x432 with 2 Axes>"
      ]
     },
     "metadata": {
      "needs_background": "light"
     },
     "output_type": "display_data"
    }
   ],
   "source": [
    "# Plot of client type when contract was approved\n",
    "plt.figure(figsize = (20, 6))\n",
    "plt.subplot(1, 2, 1)\n",
    "plt.bar(list(range(3)), interesting_features['MODE(previous.NAME_CLIENT_TYPE WHERE NAME_CONTRACT_STATUS = Approved)'].value_counts())\n",
    "plt.xticks(list(range(3)), interesting_features['MODE(previous.NAME_CLIENT_TYPE WHERE NAME_CONTRACT_STATUS = Approved)'].value_counts().index);\n",
    "plt.xlabel(\"Client Type\"); plt.ylabel(\"Counts\");\n",
    "plt.title(\"Most Common Client Type where Contract was Approved\");\n",
    "\n",
    "# Plot of client type where contract was refused\n",
    "plt.subplot(1, 2, 2)\n",
    "plt.bar(list(range(4)), interesting_features['MODE(previous.NAME_CLIENT_TYPE WHERE NAME_CONTRACT_STATUS = Refused)'].value_counts())\n",
    "plt.xticks(list(range(4)), interesting_features['MODE(previous.NAME_CLIENT_TYPE WHERE NAME_CONTRACT_STATUS = Refused)'].value_counts().index);\n",
    "plt.xlabel(\"Client Type\"); plt.ylabel(\"Counts\");\n",
    "plt.title(\"Most Common Client Type where Contract was Refused\");"
   ]
  },
  {
   "cell_type": "markdown",
   "metadata": {},
   "source": [
    "### Based on the most important features returned by a model, we can create new interesting features. This is the area where domain knowledge can be applied to feature creation."
   ]
  },
  {
   "cell_type": "markdown",
   "metadata": {},
   "source": [
    "### Seed Features\n",
    "\n",
    "An additional extension to the default aggregations and transformations is to use [seed features](https://docs.featuretools.com/automated_feature_engineering/dfs_usage_tips.html#specifying-list-of-aggregation-functions). These are user defined features that we provide to deep feature synthesis that can then be built on top of where possible. \n",
    "\n",
    "As an example, we can create a seed feature that determines whether or not a payment was late. This time when we make the `dfs` function call, we need to pass in the `seed_features` argument."
   ]
  },
  {
   "cell_type": "code",
   "execution_count": 29,
   "metadata": {
    "_uuid": "4fd988c21303fe69f4c1600e25a405c2710c8feb"
   },
   "outputs": [
    {
     "name": "stdout",
     "output_type": "stream",
     "text": [
      "Built 204 features\n",
      "Elapsed: 00:00 | Remaining: 00:00 | Progress: 100%|███████████████████████████████████████████████| Calculated: 1/1 chunks\n"
     ]
    }
   ],
   "source": [
    "# Late Payment seed feature\n",
    "late_payment = ft.Feature(es['installments']['installments_due_date']) < ft.Feature(es['installments']['installments_paid_date'])\n",
    "\n",
    "# Rename the feature\n",
    "late_payment = late_payment.rename(\"late_payment\")\n",
    "\n",
    "# DFS with seed features\n",
    "seed_features, seed_feature_names = ft.dfs(entityset = es,\n",
    "                                           target_entity = 'app_train',\n",
    "                                           agg_primitives = ['percent_true', 'mean'],\n",
    "                                           trans_primitives = [], \n",
    "                                           seed_features = [late_payment],\n",
    "                                           features_only = False, verbose = True,\n",
    "                                           chunk_size = len(app_train),\n",
    "                                           ignore_entities = ['app_test'])"
   ]
  },
  {
   "cell_type": "code",
   "execution_count": 30,
   "metadata": {
    "_uuid": "760ccd4de173c335d8e84ab08dc0c8368a0fa6aa"
   },
   "outputs": [
    {
     "data": {
      "text/html": [
       "<div>\n",
       "<style scoped>\n",
       "    .dataframe tbody tr th:only-of-type {\n",
       "        vertical-align: middle;\n",
       "    }\n",
       "\n",
       "    .dataframe tbody tr th {\n",
       "        vertical-align: top;\n",
       "    }\n",
       "\n",
       "    .dataframe thead th {\n",
       "        text-align: right;\n",
       "    }\n",
       "</style>\n",
       "<table border=\"1\" class=\"dataframe\">\n",
       "  <thead>\n",
       "    <tr style=\"text-align: right;\">\n",
       "      <th></th>\n",
       "      <th>PERCENT_TRUE(installments.late_payment)</th>\n",
       "      <th>MEAN(previous.PERCENT_TRUE(installments.late_payment))</th>\n",
       "    </tr>\n",
       "    <tr>\n",
       "      <th>SK_ID_CURR</th>\n",
       "      <th></th>\n",
       "      <th></th>\n",
       "    </tr>\n",
       "  </thead>\n",
       "  <tbody>\n",
       "    <tr>\n",
       "      <th>100002</th>\n",
       "      <td>0.000000</td>\n",
       "      <td>0.000000</td>\n",
       "    </tr>\n",
       "    <tr>\n",
       "      <th>100003</th>\n",
       "      <td>0.000000</td>\n",
       "      <td>0.000000</td>\n",
       "    </tr>\n",
       "    <tr>\n",
       "      <th>100004</th>\n",
       "      <td>0.000000</td>\n",
       "      <td>0.000000</td>\n",
       "    </tr>\n",
       "    <tr>\n",
       "      <th>100006</th>\n",
       "      <td>0.000000</td>\n",
       "      <td>0.000000</td>\n",
       "    </tr>\n",
       "    <tr>\n",
       "      <th>100007</th>\n",
       "      <td>0.242424</td>\n",
       "      <td>0.239927</td>\n",
       "    </tr>\n",
       "    <tr>\n",
       "      <th>100008</th>\n",
       "      <td>0.028571</td>\n",
       "      <td>0.018182</td>\n",
       "    </tr>\n",
       "    <tr>\n",
       "      <th>100009</th>\n",
       "      <td>0.000000</td>\n",
       "      <td>0.000000</td>\n",
       "    </tr>\n",
       "    <tr>\n",
       "      <th>100010</th>\n",
       "      <td>0.000000</td>\n",
       "      <td>0.000000</td>\n",
       "    </tr>\n",
       "    <tr>\n",
       "      <th>100011</th>\n",
       "      <td>0.146154</td>\n",
       "      <td>0.207870</td>\n",
       "    </tr>\n",
       "    <tr>\n",
       "      <th>100012</th>\n",
       "      <td>0.104167</td>\n",
       "      <td>0.089015</td>\n",
       "    </tr>\n",
       "  </tbody>\n",
       "</table>\n",
       "</div>"
      ],
      "text/plain": [
       "            PERCENT_TRUE(installments.late_payment)  \\\n",
       "SK_ID_CURR                                            \n",
       "100002                                     0.000000   \n",
       "100003                                     0.000000   \n",
       "100004                                     0.000000   \n",
       "100006                                     0.000000   \n",
       "100007                                     0.242424   \n",
       "100008                                     0.028571   \n",
       "100009                                     0.000000   \n",
       "100010                                     0.000000   \n",
       "100011                                     0.146154   \n",
       "100012                                     0.104167   \n",
       "\n",
       "            MEAN(previous.PERCENT_TRUE(installments.late_payment))  \n",
       "SK_ID_CURR                                                          \n",
       "100002                                               0.000000       \n",
       "100003                                               0.000000       \n",
       "100004                                               0.000000       \n",
       "100006                                               0.000000       \n",
       "100007                                               0.239927       \n",
       "100008                                               0.018182       \n",
       "100009                                               0.000000       \n",
       "100010                                               0.000000       \n",
       "100011                                               0.207870       \n",
       "100012                                               0.089015       "
      ]
     },
     "execution_count": 30,
     "metadata": {},
     "output_type": "execute_result"
    }
   ],
   "source": [
    "seed_features.iloc[:, -2:].head(10)"
   ]
  },
  {
   "cell_type": "code",
   "execution_count": 31,
   "metadata": {
    "_uuid": "ae77ed3b097b2bf5d836ee639e05175104d759ed"
   },
   "outputs": [
    {
     "data": {
      "image/png": "[encoded data removed]",
      "text/plain": [
       "<Figure size 432x288 with 1 Axes>"
      ]
     },
     "metadata": {
      "needs_background": "light"
     },
     "output_type": "display_data"
    }
   ],
   "source": [
    "sns.kdeplot(seed_features['PERCENT_TRUE(installments.late_payment)'].dropna(), label = '')\n",
    "plt.xlabel('Late Installments'); plt.ylabel('Density'); plt.title('Late Installment Fraction by Client');"
   ]
  },
  {
   "cell_type": "markdown",
   "metadata": {},
   "source": [
    "### Another seed feature we use is whether or not a previous loan at another institution was past due. "
   ]
  },
  {
   "cell_type": "code",
   "execution_count": 32,
   "metadata": {
    "_uuid": "fff2cdf330468b9f4e7511f25b3c07df301be3c0"
   },
   "outputs": [],
   "source": [
    "# Create a feed representing whether the loan is past due\n",
    "past_due = ft.Feature(es['bureau_balance']['STATUS']).isin(['1', '2', '3', '4', '5'])\n",
    "past_due = past_due.rename(\"past_due\")"
   ]
  },
  {
   "cell_type": "code",
   "execution_count": 33,
   "metadata": {
    "_uuid": "60367618d98a813537712c806fae7b328cffc066"
   },
   "outputs": [
    {
     "name": "stdout",
     "output_type": "stream",
     "text": [
      "Built 204 features\n",
      "Elapsed: 00:00 | Remaining: 00:00 | Progress: 100%|███████████████████████████████████████████████| Calculated: 1/1 chunks\n"
     ]
    }
   ],
   "source": [
    "# DFS with specified seed feature\n",
    "seed_features, seed_feature_names = ft.dfs(entityset = es,\n",
    "                                           target_entity = 'app_train',\n",
    "                                           agg_primitives = ['percent_true', 'mean'],\n",
    "                                           trans_primitives = [], \n",
    "                                           seed_features = [past_due],\n",
    "                                           features_only = False, verbose = True,\n",
    "                                           chunk_size = len(app_train),\n",
    "                                           ignore_entities = ['app_test'])"
   ]
  },
  {
   "cell_type": "markdown",
   "metadata": {},
   "source": [
    "### Create Custom Feature Primitives\n",
    "\n",
    "we [can also write our own Feature Primitives](https://docs.featuretools.com/automated_feature_engineering/primitives.html#defining-custom-primitives). This is an extremely powerful method that lets us expand the capabilities of featuretools. \n",
    "\n",
    "### NormalizedModeCount and LongestSeq\n",
    "\n",
    "As an example, we make three features, building on code from the [featuretools GitHub](https://github.com/Featuretools/featuretools). These will be aggregation primitives, where the function takes in an array of values and returns a single value.  The first, `NormalizedModeCount`, builds upon the `Mode` function by returning the fraction of total observations in a categorical feature that the model makes up. In other words, for a client with 5 total `bureau_balance` observations where 4 of the `STATUS` were `X`, the value of the `NormalizedModeCount` would be 0.8. The idea is to record not only the most common value, but also the relative frequency of the most common value compared to all observations.  \n",
    "\n",
    "The second custom feature will record the longest consecutive run of a discrete variable. `LongestSeq` takes in an array of discrete values and returns the element that appears the most consecutive times. Because entities in the entityset are sorted by the `time_index`, this will return the value that occurs the most number of times in a row with respect to time. "
   ]
  },
  {
   "cell_type": "code",
   "execution_count": 34,
   "metadata": {
    "_uuid": "2a009fb59aa0c5f262830f1c03407615a9179ba0"
   },
   "outputs": [],
   "source": [
    "from featuretools.variable_types import (\n",
    "    Boolean, Datetime,\n",
    "    DatetimeTimeIndex,\n",
    "    Discrete,\n",
    "    Index,\n",
    "    Numeric,\n",
    "    Variable,\n",
    "    Id\n",
    ")\n",
    "\n",
    "from featuretools.primitives import AggregationPrimitive, make_agg_primitive\n",
    "from datetime import datetime, timedelta\n",
    "\n",
    "from collections import Counter\n",
    "\n",
    "\n",
    "def normalized_mode_count(x):\n",
    "    \"\"\"\n",
    "    Return the fraction of total observations that \n",
    "    are the most common observation. For example, \n",
    "    in an array of ['A', 'A', 'A', 'B', 'B'], the \n",
    "    function will return 0.6.\"\"\"\n",
    "    \n",
    "    if x.mode().shape[0] == 0:\n",
    "        return np.nan\n",
    "            \n",
    "    # Count occurence of each value\n",
    "    counts = dict(Counter(x.values))\n",
    "    # Find the mode\n",
    "    mode = x.mode().iloc[0]\n",
    "    # Divide the occurences of mode by the total occurrences\n",
    "    return counts[mode] / np.sum(list(counts.values()))\n",
    "    \n",
    "\n",
    "NormalizedModeCount = make_agg_primitive(function = normalized_mode_count, \n",
    "                                         input_types = [Discrete],\n",
    "                                         return_type = Numeric)\n",
    "\n",
    "# Function from https://codereview.stackexchange.com/a/15095\n",
    "def longest_repetition(x):\n",
    "    \"\"\"\n",
    "    Returns the item with most consecutive occurrences in `x`. \n",
    "    If there are multiple items with the same number of conseqcutive occurrences,\n",
    "    it will return the first one. If `x` is empty, returns None. \n",
    "    \"\"\"\n",
    "    \n",
    "    x = x.dropna()\n",
    "    \n",
    "    if x.shape[0] < 1:\n",
    "        return None\n",
    "    \n",
    "    # Set the longest element\n",
    "    longest_element = current_element = None\n",
    "    longest_repeats = current_repeats = 0\n",
    "    \n",
    "    # Iterate through the iterable\n",
    "    for element in x:\n",
    "        if current_element == element:\n",
    "            current_repeats += 1\n",
    "        else:\n",
    "            current_element = element\n",
    "            current_repeats = 1\n",
    "        if current_repeats > longest_repeats:\n",
    "            longest_repeats = current_repeats\n",
    "            longest_element = current_element\n",
    "            \n",
    "    return longest_element\n",
    "\n",
    "LongestSeq = make_agg_primitive(function = longest_repetition,\n",
    "                                     input_types = [Discrete],\n",
    "                                     return_type = Discrete)    "
   ]
  },
  {
   "cell_type": "code",
   "execution_count": 35,
   "metadata": {
    "_uuid": "46e43561ec800ccdedb6247a8f11abe57a1db8c4"
   },
   "outputs": [
    {
     "name": "stdout",
     "output_type": "stream",
     "text": [
      "Built 171 features\n",
      "Elapsed: 00:01 | Remaining: 00:00 | Progress: 100%|███████████████████████████████████████████████| Calculated: 1/1 chunks\n"
     ]
    },
    {
     "data": {
      "text/html": [
       "<div>\n",
       "<style scoped>\n",
       "    .dataframe tbody tr th:only-of-type {\n",
       "        vertical-align: middle;\n",
       "    }\n",
       "\n",
       "    .dataframe tbody tr th {\n",
       "        vertical-align: top;\n",
       "    }\n",
       "\n",
       "    .dataframe thead th {\n",
       "        text-align: right;\n",
       "    }\n",
       "</style>\n",
       "<table border=\"1\" class=\"dataframe\">\n",
       "  <thead>\n",
       "    <tr style=\"text-align: right;\">\n",
       "      <th></th>\n",
       "      <th>NORMALIZED_MODE_COUNT(previous.NAME_PORTFOLIO)</th>\n",
       "      <th>NORMALIZED_MODE_COUNT(previous.NAME_PRODUCT_TYPE)</th>\n",
       "      <th>NORMALIZED_MODE_COUNT(previous.CHANNEL_TYPE)</th>\n",
       "      <th>NORMALIZED_MODE_COUNT(previous.NAME_SELLER_INDUSTRY)</th>\n",
       "      <th>NORMALIZED_MODE_COUNT(previous.NAME_YIELD_GROUP)</th>\n",
       "      <th>NORMALIZED_MODE_COUNT(previous.PRODUCT_COMBINATION)</th>\n",
       "      <th>LONGEST_REPETITION(previous.NAME_CONTRACT_TYPE)</th>\n",
       "      <th>LONGEST_REPETITION(previous.WEEKDAY_APPR_PROCESS_START)</th>\n",
       "      <th>LONGEST_REPETITION(previous.FLAG_LAST_APPL_PER_CONTRACT)</th>\n",
       "      <th>LONGEST_REPETITION(previous.NAME_CASH_LOAN_PURPOSE)</th>\n",
       "      <th>...</th>\n",
       "      <th>NORMALIZED_MODE_COUNT(credit.NAME_CONTRACT_STATUS)</th>\n",
       "      <th>LONGEST_REPETITION(credit.NAME_CONTRACT_STATUS)</th>\n",
       "      <th>NORMALIZED_MODE_COUNT(bureau_balance.STATUS)</th>\n",
       "      <th>LONGEST_REPETITION(bureau_balance.STATUS)</th>\n",
       "      <th>NORMALIZED_MODE_COUNT(previous.LONGEST_REPETITION(cash.NAME_CONTRACT_STATUS))</th>\n",
       "      <th>NORMALIZED_MODE_COUNT(previous.LONGEST_REPETITION(credit.NAME_CONTRACT_STATUS))</th>\n",
       "      <th>LONGEST_REPETITION(previous.LONGEST_REPETITION(cash.NAME_CONTRACT_STATUS))</th>\n",
       "      <th>LONGEST_REPETITION(previous.LONGEST_REPETITION(credit.NAME_CONTRACT_STATUS))</th>\n",
       "      <th>NORMALIZED_MODE_COUNT(bureau.LONGEST_REPETITION(bureau_balance.STATUS))</th>\n",
       "      <th>LONGEST_REPETITION(bureau.LONGEST_REPETITION(bureau_balance.STATUS))</th>\n",
       "    </tr>\n",
       "    <tr>\n",
       "      <th>SK_ID_CURR</th>\n",
       "      <th></th>\n",
       "      <th></th>\n",
       "      <th></th>\n",
       "      <th></th>\n",
       "      <th></th>\n",
       "      <th></th>\n",
       "      <th></th>\n",
       "      <th></th>\n",
       "      <th></th>\n",
       "      <th></th>\n",
       "      <th></th>\n",
       "      <th></th>\n",
       "      <th></th>\n",
       "      <th></th>\n",
       "      <th></th>\n",
       "      <th></th>\n",
       "      <th></th>\n",
       "      <th></th>\n",
       "      <th></th>\n",
       "      <th></th>\n",
       "      <th></th>\n",
       "    </tr>\n",
       "  </thead>\n",
       "  <tbody>\n",
       "    <tr>\n",
       "      <th>100002</th>\n",
       "      <td>1.000000</td>\n",
       "      <td>1.000000</td>\n",
       "      <td>1.000000</td>\n",
       "      <td>1.000000</td>\n",
       "      <td>1.000000</td>\n",
       "      <td>1.000000</td>\n",
       "      <td>Consumer loans</td>\n",
       "      <td>SATURDAY</td>\n",
       "      <td>Y</td>\n",
       "      <td>XAP</td>\n",
       "      <td>...</td>\n",
       "      <td>NaN</td>\n",
       "      <td>NaN</td>\n",
       "      <td>NaN</td>\n",
       "      <td>NaN</td>\n",
       "      <td>1.000000</td>\n",
       "      <td>NaN</td>\n",
       "      <td>Active</td>\n",
       "      <td>NaN</td>\n",
       "      <td>NaN</td>\n",
       "      <td>NaN</td>\n",
       "    </tr>\n",
       "    <tr>\n",
       "      <th>100003</th>\n",
       "      <td>0.666667</td>\n",
       "      <td>0.666667</td>\n",
       "      <td>0.333333</td>\n",
       "      <td>0.333333</td>\n",
       "      <td>0.666667</td>\n",
       "      <td>0.333333</td>\n",
       "      <td>Consumer loans</td>\n",
       "      <td>SATURDAY</td>\n",
       "      <td>Y</td>\n",
       "      <td>XAP</td>\n",
       "      <td>...</td>\n",
       "      <td>NaN</td>\n",
       "      <td>NaN</td>\n",
       "      <td>NaN</td>\n",
       "      <td>NaN</td>\n",
       "      <td>1.000000</td>\n",
       "      <td>NaN</td>\n",
       "      <td>Active</td>\n",
       "      <td>NaN</td>\n",
       "      <td>NaN</td>\n",
       "      <td>NaN</td>\n",
       "    </tr>\n",
       "    <tr>\n",
       "      <th>100004</th>\n",
       "      <td>1.000000</td>\n",
       "      <td>1.000000</td>\n",
       "      <td>1.000000</td>\n",
       "      <td>1.000000</td>\n",
       "      <td>1.000000</td>\n",
       "      <td>1.000000</td>\n",
       "      <td>Consumer loans</td>\n",
       "      <td>FRIDAY</td>\n",
       "      <td>Y</td>\n",
       "      <td>XAP</td>\n",
       "      <td>...</td>\n",
       "      <td>NaN</td>\n",
       "      <td>NaN</td>\n",
       "      <td>NaN</td>\n",
       "      <td>NaN</td>\n",
       "      <td>1.000000</td>\n",
       "      <td>NaN</td>\n",
       "      <td>Active</td>\n",
       "      <td>NaN</td>\n",
       "      <td>NaN</td>\n",
       "      <td>NaN</td>\n",
       "    </tr>\n",
       "    <tr>\n",
       "      <th>100006</th>\n",
       "      <td>0.333333</td>\n",
       "      <td>0.555556</td>\n",
       "      <td>0.777778</td>\n",
       "      <td>0.777778</td>\n",
       "      <td>0.444444</td>\n",
       "      <td>0.222222</td>\n",
       "      <td>Cash loans</td>\n",
       "      <td>THURSDAY</td>\n",
       "      <td>Y</td>\n",
       "      <td>XNA</td>\n",
       "      <td>...</td>\n",
       "      <td>1.0</td>\n",
       "      <td>Active</td>\n",
       "      <td>NaN</td>\n",
       "      <td>NaN</td>\n",
       "      <td>0.333333</td>\n",
       "      <td>0.111111</td>\n",
       "      <td>Active</td>\n",
       "      <td>Active</td>\n",
       "      <td>NaN</td>\n",
       "      <td>NaN</td>\n",
       "    </tr>\n",
       "    <tr>\n",
       "      <th>100007</th>\n",
       "      <td>0.666667</td>\n",
       "      <td>0.500000</td>\n",
       "      <td>0.500000</td>\n",
       "      <td>0.500000</td>\n",
       "      <td>0.500000</td>\n",
       "      <td>0.500000</td>\n",
       "      <td>Cash loans</td>\n",
       "      <td>SATURDAY</td>\n",
       "      <td>Y</td>\n",
       "      <td>XNA</td>\n",
       "      <td>...</td>\n",
       "      <td>NaN</td>\n",
       "      <td>NaN</td>\n",
       "      <td>NaN</td>\n",
       "      <td>NaN</td>\n",
       "      <td>0.833333</td>\n",
       "      <td>NaN</td>\n",
       "      <td>Active</td>\n",
       "      <td>NaN</td>\n",
       "      <td>NaN</td>\n",
       "      <td>NaN</td>\n",
       "    </tr>\n",
       "  </tbody>\n",
       "</table>\n",
       "<p>5 rows × 40 columns</p>\n",
       "</div>"
      ],
      "text/plain": [
       "            NORMALIZED_MODE_COUNT(previous.NAME_PORTFOLIO)  \\\n",
       "SK_ID_CURR                                                   \n",
       "100002                                            1.000000   \n",
       "100003                                            0.666667   \n",
       "100004                                            1.000000   \n",
       "100006                                            0.333333   \n",
       "100007                                            0.666667   \n",
       "\n",
       "            NORMALIZED_MODE_COUNT(previous.NAME_PRODUCT_TYPE)  \\\n",
       "SK_ID_CURR                                                      \n",
       "100002                                               1.000000   \n",
       "100003                                               0.666667   \n",
       "100004                                               1.000000   \n",
       "100006                                               0.555556   \n",
       "100007                                               0.500000   \n",
       "\n",
       "            NORMALIZED_MODE_COUNT(previous.CHANNEL_TYPE)  \\\n",
       "SK_ID_CURR                                                 \n",
       "100002                                          1.000000   \n",
       "100003                                          0.333333   \n",
       "100004                                          1.000000   \n",
       "100006                                          0.777778   \n",
       "100007                                          0.500000   \n",
       "\n",
       "            NORMALIZED_MODE_COUNT(previous.NAME_SELLER_INDUSTRY)  \\\n",
       "SK_ID_CURR                                                         \n",
       "100002                                               1.000000      \n",
       "100003                                               0.333333      \n",
       "100004                                               1.000000      \n",
       "100006                                               0.777778      \n",
       "100007                                               0.500000      \n",
       "\n",
       "            NORMALIZED_MODE_COUNT(previous.NAME_YIELD_GROUP)  \\\n",
       "SK_ID_CURR                                                     \n",
       "100002                                              1.000000   \n",
       "100003                                              0.666667   \n",
       "100004                                              1.000000   \n",
       "100006                                              0.444444   \n",
       "100007                                              0.500000   \n",
       "\n",
       "            NORMALIZED_MODE_COUNT(previous.PRODUCT_COMBINATION)  \\\n",
       "SK_ID_CURR                                                        \n",
       "100002                                               1.000000     \n",
       "100003                                               0.333333     \n",
       "100004                                               1.000000     \n",
       "100006                                               0.222222     \n",
       "100007                                               0.500000     \n",
       "\n",
       "           LONGEST_REPETITION(previous.NAME_CONTRACT_TYPE)  \\\n",
       "SK_ID_CURR                                                   \n",
       "100002                                      Consumer loans   \n",
       "100003                                      Consumer loans   \n",
       "100004                                      Consumer loans   \n",
       "100006                                          Cash loans   \n",
       "100007                                          Cash loans   \n",
       "\n",
       "           LONGEST_REPETITION(previous.WEEKDAY_APPR_PROCESS_START)  \\\n",
       "SK_ID_CURR                                                           \n",
       "100002                                               SATURDAY        \n",
       "100003                                               SATURDAY        \n",
       "100004                                                 FRIDAY        \n",
       "100006                                               THURSDAY        \n",
       "100007                                               SATURDAY        \n",
       "\n",
       "           LONGEST_REPETITION(previous.FLAG_LAST_APPL_PER_CONTRACT)  \\\n",
       "SK_ID_CURR                                                            \n",
       "100002                                                      Y         \n",
       "100003                                                      Y         \n",
       "100004                                                      Y         \n",
       "100006                                                      Y         \n",
       "100007                                                      Y         \n",
       "\n",
       "           LONGEST_REPETITION(previous.NAME_CASH_LOAN_PURPOSE)  \\\n",
       "SK_ID_CURR                                                       \n",
       "100002                                                    XAP    \n",
       "100003                                                    XAP    \n",
       "100004                                                    XAP    \n",
       "100006                                                    XNA    \n",
       "100007                                                    XNA    \n",
       "\n",
       "                                           ...                                   \\\n",
       "SK_ID_CURR                                 ...                                    \n",
       "100002                                     ...                                    \n",
       "100003                                     ...                                    \n",
       "100004                                     ...                                    \n",
       "100006                                     ...                                    \n",
       "100007                                     ...                                    \n",
       "\n",
       "           NORMALIZED_MODE_COUNT(credit.NAME_CONTRACT_STATUS)  \\\n",
       "SK_ID_CURR                                                      \n",
       "100002                                                    NaN   \n",
       "100003                                                    NaN   \n",
       "100004                                                    NaN   \n",
       "100006                                                    1.0   \n",
       "100007                                                    NaN   \n",
       "\n",
       "           LONGEST_REPETITION(credit.NAME_CONTRACT_STATUS)  \\\n",
       "SK_ID_CURR                                                   \n",
       "100002                                                 NaN   \n",
       "100003                                                 NaN   \n",
       "100004                                                 NaN   \n",
       "100006                                              Active   \n",
       "100007                                                 NaN   \n",
       "\n",
       "           NORMALIZED_MODE_COUNT(bureau_balance.STATUS)  \\\n",
       "SK_ID_CURR                                                \n",
       "100002                                              NaN   \n",
       "100003                                              NaN   \n",
       "100004                                              NaN   \n",
       "100006                                              NaN   \n",
       "100007                                              NaN   \n",
       "\n",
       "           LONGEST_REPETITION(bureau_balance.STATUS)  \\\n",
       "SK_ID_CURR                                             \n",
       "100002                                           NaN   \n",
       "100003                                           NaN   \n",
       "100004                                           NaN   \n",
       "100006                                           NaN   \n",
       "100007                                           NaN   \n",
       "\n",
       "           NORMALIZED_MODE_COUNT(previous.LONGEST_REPETITION(cash.NAME_CONTRACT_STATUS))  \\\n",
       "SK_ID_CURR                                                                                 \n",
       "100002                                               1.000000                              \n",
       "100003                                               1.000000                              \n",
       "100004                                               1.000000                              \n",
       "100006                                               0.333333                              \n",
       "100007                                               0.833333                              \n",
       "\n",
       "           NORMALIZED_MODE_COUNT(previous.LONGEST_REPETITION(credit.NAME_CONTRACT_STATUS))  \\\n",
       "SK_ID_CURR                                                                                   \n",
       "100002                                                    NaN                                \n",
       "100003                                                    NaN                                \n",
       "100004                                                    NaN                                \n",
       "100006                                               0.111111                                \n",
       "100007                                                    NaN                                \n",
       "\n",
       "           LONGEST_REPETITION(previous.LONGEST_REPETITION(cash.NAME_CONTRACT_STATUS))  \\\n",
       "SK_ID_CURR                                                                              \n",
       "100002                                                 Active                           \n",
       "100003                                                 Active                           \n",
       "100004                                                 Active                           \n",
       "100006                                                 Active                           \n",
       "100007                                                 Active                           \n",
       "\n",
       "           LONGEST_REPETITION(previous.LONGEST_REPETITION(credit.NAME_CONTRACT_STATUS))  \\\n",
       "SK_ID_CURR                                                                                \n",
       "100002                                                    NaN                             \n",
       "100003                                                    NaN                             \n",
       "100004                                                    NaN                             \n",
       "100006                                                 Active                             \n",
       "100007                                                    NaN                             \n",
       "\n",
       "           NORMALIZED_MODE_COUNT(bureau.LONGEST_REPETITION(bureau_balance.STATUS))  \\\n",
       "SK_ID_CURR                                                                           \n",
       "100002                                                    NaN                        \n",
       "100003                                                    NaN                        \n",
       "100004                                                    NaN                        \n",
       "100006                                                    NaN                        \n",
       "100007                                                    NaN                        \n",
       "\n",
       "           LONGEST_REPETITION(bureau.LONGEST_REPETITION(bureau_balance.STATUS))  \n",
       "SK_ID_CURR                                                                       \n",
       "100002                                                    NaN                    \n",
       "100003                                                    NaN                    \n",
       "100004                                                    NaN                    \n",
       "100006                                                    NaN                    \n",
       "100007                                                    NaN                    \n",
       "\n",
       "[5 rows x 40 columns]"
      ]
     },
     "execution_count": 35,
     "metadata": {},
     "output_type": "execute_result"
    }
   ],
   "source": [
    "# DFS with custom features\n",
    "custom_features, custom_feature_names = ft.dfs(entityset = es,\n",
    "                                              target_entity = 'app_train',\n",
    "                                              agg_primitives = [NormalizedModeCount, LongestSeq],\n",
    "                                              max_depth = 2,\n",
    "                                              trans_primitives = [],\n",
    "                                              features_only = False, verbose = True,\n",
    "                                              chunk_size = len(app_train),\n",
    "                                              ignore_entities = ['app_test'])\n",
    "\n",
    "custom_features.iloc[:, -40:].head()"
   ]
  },
  {
   "cell_type": "code",
   "execution_count": 36,
   "metadata": {
    "_uuid": "0a6afb90b7fc15165e3e04ad570b19f975cb505c"
   },
   "outputs": [
    {
     "data": {
      "image/png": "[encoded data removed]",
      "text/plain": [
       "<Figure size 576x432 with 1 Axes>"
      ]
     },
     "metadata": {
      "needs_background": "light"
     },
     "output_type": "display_data"
    }
   ],
   "source": [
    "plt.figure(figsize = (8, 6))\n",
    "plt.bar(custom_features['LONGEST_REPETITION(previous.NAME_YIELD_GROUP)'].value_counts().index, custom_features['LONGEST_REPETITION(previous.NAME_YIELD_GROUP)'].value_counts(), edgecolor = 'k')\n",
    "plt.xlabel('NAME_YIELD_GROUP'); plt.ylabel('Counts'); plt.title('Longest Repetition of Previous Name Yield Group');"
   ]
  },
  {
   "cell_type": "code",
   "execution_count": 37,
   "metadata": {
    "_uuid": "09ddb054fc5dcac31e0609bb8711c2d11e58f676"
   },
   "outputs": [
    {
     "data": {
      "text/plain": [
       "<matplotlib.axes._subplots.AxesSubplot at 0x1cdaa59fc88>"
      ]
     },
     "execution_count": 37,
     "metadata": {},
     "output_type": "execute_result"
    },
    {
     "data": {
      "image/png": "[encoded data removed]",
      "text/plain": [
       "<Figure size 576x432 with 1 Axes>"
      ]
     },
     "metadata": {
      "needs_background": "light"
     },
     "output_type": "display_data"
    }
   ],
   "source": [
    "plt.figure(figsize = (8, 6))\n",
    "sns.kdeplot(custom_features['NORMALIZED_MODE_COUNT(previous.NAME_PRODUCT_TYPE)'], label = 'NORMALIZED_MODE_COUNT(previous.NAME_PRODUCT_TYPE)')\n",
    "sns.kdeplot(custom_features['NORMALIZED_MODE_COUNT(bureau.CREDIT_ACTIVE)'], label = 'NORMALIZED_MODE_COUNT(bureau.CREDIT_ACTIVE)')"
   ]
  },
  {
   "cell_type": "markdown",
   "metadata": {},
   "source": [
    "### MostRecent\n",
    "\n",
    "The final custom feature is `MOSTRECENT`. This simply returns the most recent value of a discrete variable with respect to time columns in a dataframe. When we create an entity, featuretools will [sort the entity](https://github.com/Featuretools/featuretools/blob/master/featuretools/entityset/entity.py) by the `time_index`. Therefore, the built-in aggregation primitive `LAST` calculates the most recent value based on the time index. However, in cases where there are multiple different time columns, it might be useful to know the most recent value with respect to all of the times. To build the custom feature primitive, We adapted the existing `TREND` primitive ([code here](https://github.com/Featuretools/featuretools/blob/master/featuretools/primitives/aggregation_primitives.py)). "
   ]
  },
  {
   "cell_type": "code",
   "execution_count": 38,
   "metadata": {
    "_uuid": "2ac5ba95df7df570d19cf7ad252dfd519864839c"
   },
   "outputs": [],
   "source": [
    "# Building on the Trend Aggregation Primitive\n",
    "# Copied from https://github.com/Featuretools/featuretools/blob/master/featuretools/primitives/aggregation_primitives.py\n",
    "\n",
    "def most_recent(y, x):\n",
    "    df = pd.DataFrame({\"x\": x, \"y\": y}).dropna()\n",
    "            \n",
    "    if df.shape[0] < 1:\n",
    "        return np.nan\n",
    "\n",
    "    # Sort the values by timestamps reversed\n",
    "    df = df.sort_values('x', ascending = False).reset_index()\n",
    "\n",
    "    # Return the most recent occurence\n",
    "    return df.iloc[0]['y']\n",
    "\n",
    "MostRecent = make_agg_primitive(function = most_recent,\n",
    "                                input_types = [Discrete, Datetime],\n",
    "                                return_type = Discrete)"
   ]
  },
  {
   "cell_type": "code",
   "execution_count": 39,
   "metadata": {
    "_uuid": "e4756022bd4b85a1151afd0435ca0331ed2ef33d"
   },
   "outputs": [
    {
     "name": "stdout",
     "output_type": "stream",
     "text": [
      "Built 269 features\n",
      "Elapsed: 00:29 | Remaining: 00:00 | Progress: 100%|███████████████████████████████████████████████| Calculated: 1/1 chunks\n"
     ]
    }
   ],
   "source": [
    "# DFS with custom feature\n",
    "custom_features, custom_feature_names = ft.dfs(entityset = es,\n",
    "                                              target_entity = 'app_train',\n",
    "                                              agg_primitives = ['last', MostRecent],\n",
    "                                               max_depth = 1,\n",
    "                                              trans_primitives = [],\n",
    "                                              features_only = False, verbose = True,\n",
    "                                              chunk_size = len(app_train),\n",
    "                                              ignore_entities = ['app_test'])"
   ]
  },
  {
   "cell_type": "markdown",
   "metadata": {},
   "source": [
    "### To test whether this function works as intended, we can compare the most recent variable of `CREDIT_TYPE` ordered by two different dates. "
   ]
  },
  {
   "cell_type": "code",
   "execution_count": 40,
   "metadata": {
    "_uuid": "c637391cbc2056d352ec2e8a5a02ecee878818dd"
   },
   "outputs": [
    {
     "data": {
      "text/html": [
       "<div>\n",
       "<style scoped>\n",
       "    .dataframe tbody tr th:only-of-type {\n",
       "        vertical-align: middle;\n",
       "    }\n",
       "\n",
       "    .dataframe tbody tr th {\n",
       "        vertical-align: top;\n",
       "    }\n",
       "\n",
       "    .dataframe thead th {\n",
       "        text-align: right;\n",
       "    }\n",
       "</style>\n",
       "<table border=\"1\" class=\"dataframe\">\n",
       "  <thead>\n",
       "    <tr style=\"text-align: right;\">\n",
       "      <th></th>\n",
       "      <th>MOST_RECENT(bureau.CREDIT_TYPE, bureau_credit_end_date)</th>\n",
       "      <th>MOST_RECENT(bureau.CREDIT_TYPE, bureau_credit_application_date)</th>\n",
       "    </tr>\n",
       "    <tr>\n",
       "      <th>SK_ID_CURR</th>\n",
       "      <th></th>\n",
       "      <th></th>\n",
       "    </tr>\n",
       "  </thead>\n",
       "  <tbody>\n",
       "    <tr>\n",
       "      <th>100002</th>\n",
       "      <td>Consumer credit</td>\n",
       "      <td>Credit card</td>\n",
       "    </tr>\n",
       "    <tr>\n",
       "      <th>100003</th>\n",
       "      <td>Credit card</td>\n",
       "      <td>Credit card</td>\n",
       "    </tr>\n",
       "    <tr>\n",
       "      <th>100004</th>\n",
       "      <td>Consumer credit</td>\n",
       "      <td>Consumer credit</td>\n",
       "    </tr>\n",
       "    <tr>\n",
       "      <th>100006</th>\n",
       "      <td>NaN</td>\n",
       "      <td>NaN</td>\n",
       "    </tr>\n",
       "    <tr>\n",
       "      <th>100007</th>\n",
       "      <td>Consumer credit</td>\n",
       "      <td>Consumer credit</td>\n",
       "    </tr>\n",
       "    <tr>\n",
       "      <th>100008</th>\n",
       "      <td>Consumer credit</td>\n",
       "      <td>Consumer credit</td>\n",
       "    </tr>\n",
       "    <tr>\n",
       "      <th>100009</th>\n",
       "      <td>Consumer credit</td>\n",
       "      <td>Credit card</td>\n",
       "    </tr>\n",
       "    <tr>\n",
       "      <th>100010</th>\n",
       "      <td>Consumer credit</td>\n",
       "      <td>Consumer credit</td>\n",
       "    </tr>\n",
       "    <tr>\n",
       "      <th>100011</th>\n",
       "      <td>Credit card</td>\n",
       "      <td>Consumer credit</td>\n",
       "    </tr>\n",
       "    <tr>\n",
       "      <th>100012</th>\n",
       "      <td>NaN</td>\n",
       "      <td>NaN</td>\n",
       "    </tr>\n",
       "  </tbody>\n",
       "</table>\n",
       "</div>"
      ],
      "text/plain": [
       "           MOST_RECENT(bureau.CREDIT_TYPE, bureau_credit_end_date)  \\\n",
       "SK_ID_CURR                                                           \n",
       "100002                                        Consumer credit        \n",
       "100003                                            Credit card        \n",
       "100004                                        Consumer credit        \n",
       "100006                                                    NaN        \n",
       "100007                                        Consumer credit        \n",
       "100008                                        Consumer credit        \n",
       "100009                                        Consumer credit        \n",
       "100010                                        Consumer credit        \n",
       "100011                                            Credit card        \n",
       "100012                                                    NaN        \n",
       "\n",
       "           MOST_RECENT(bureau.CREDIT_TYPE, bureau_credit_application_date)  \n",
       "SK_ID_CURR                                                                  \n",
       "100002                                            Credit card               \n",
       "100003                                            Credit card               \n",
       "100004                                        Consumer credit               \n",
       "100006                                                    NaN               \n",
       "100007                                        Consumer credit               \n",
       "100008                                        Consumer credit               \n",
       "100009                                            Credit card               \n",
       "100010                                        Consumer credit               \n",
       "100011                                        Consumer credit               \n",
       "100012                                                    NaN               "
      ]
     },
     "execution_count": 40,
     "metadata": {},
     "output_type": "execute_result"
    }
   ],
   "source": [
    "custom_features[['MOST_RECENT(bureau.CREDIT_TYPE, bureau_credit_end_date)', 'MOST_RECENT(bureau.CREDIT_TYPE, bureau_credit_application_date)']].head(10)"
   ]
  },
  {
   "cell_type": "markdown",
   "metadata": {},
   "source": [
    "### For client 100002\n",
    "Most recent type of credit was `Credit card` if we order by the application date, but `Consumer credit` if we order by the end date of the loan"
   ]
  },
  {
   "cell_type": "markdown",
   "metadata": {},
   "source": [
    "### Putting it all Together\n",
    "\n",
    "Finally, we run deep feature synthesis with the time variables, with the correct specified categorical variables, with the interesting features, with the seed features, and with the custom features. To actually run this on the entire dataset, we can take the code here, put it in a script, and then use more computational resources."
   ]
  },
  {
   "cell_type": "code",
   "execution_count": 41,
   "metadata": {
    "_uuid": "f4edb8a7c70aba9323019bea6a255d158045c067"
   },
   "outputs": [
    {
     "name": "stdout",
     "output_type": "stream",
     "text": [
      "Built 4127 features\n",
      "Elapsed: 01:39 | Remaining: 00:00 | Progress: 100%|███████████████████████████████████████████████| Calculated: 1/1 chunks\n"
     ]
    }
   ],
   "source": [
    "# Run and create the features\n",
    "feature_matrix, feature_names = ft.dfs(entityset = es, target_entity = 'app_train',\n",
    "                                       agg_primitives = ['mean', 'max', 'min', 'trend', 'mode', 'count', \n",
    "                                                         'sum', 'percent_true', NormalizedModeCount, MostRecent, LongestSeq],\n",
    "                                       trans_primitives = ['diff', 'cum_sum', 'cum_mean', 'percentile'], \n",
    "                                       where_primitives = ['mean', 'sum'],\n",
    "                                       seed_features = [late_payment, past_due],\n",
    "                                       max_depth = 2, features_only = False, verbose = True,\n",
    "                                       chunk_size = len(app_train),\n",
    "                                       ignore_entities = ['app_test'])"
   ]
  },
  {
   "cell_type": "code",
   "execution_count": 42,
   "metadata": {
    "_uuid": "2b51c4617e9009358798ecfe13bf95cf0387d1f1"
   },
   "outputs": [
    {
     "name": "stdout",
     "output_type": "stream",
     "text": [
      "Built 4126 features\n",
      "Elapsed: 00:21 | Remaining: 00:00 | Progress: 100%|███████████████████████████████████████████████| Calculated: 1/1 chunks\n"
     ]
    }
   ],
   "source": [
    "# Run and create the features\n",
    "feature_matrix_test, feature_names_test = ft.dfs(entityset = es, target_entity = 'app_test',\n",
    "                                                   agg_primitives = ['mean', 'max', 'min', 'trend', 'mode', 'count', \n",
    "                                                                     'sum', 'percent_true', NormalizedModeCount, MostRecent, LongestSeq],\n",
    "                                                   trans_primitives = ['diff', 'cum_sum', 'cum_mean', 'percentile'], \n",
    "                                                   where_primitives = ['mean', 'sum'],\n",
    "                                                   seed_features = [late_payment, past_due],\n",
    "                                                   max_depth = 2, features_only = False, verbose = True,\n",
    "                                                   chunk_size = len(app_test),\n",
    "                                                   ignore_entities = ['app_train'])"
   ]
  },
  {
   "cell_type": "code",
   "execution_count": 43,
   "metadata": {
    "_uuid": "8a16d772dcc6d9e4481fcc219ccc3998d22c9818"
   },
   "outputs": [
    {
     "data": {
      "text/plain": [
       "[<Feature: MEAN(previous.MEAN(installments.SK_ID_CURR))>,\n",
       " <Feature: MIN(credit.CNT_DRAWINGS_CURRENT)>,\n",
       " <Feature: MEAN(previous.MAX(installments.SK_ID_CURR))>,\n",
       " <Feature: TREND(previous.COUNT(credit), previous_decision_date)>,\n",
       " <Feature: TREND(bureau.DIFF(AMT_ANNUITY by SK_ID_CURR), bureau_credit_application_date)>,\n",
       " <Feature: SUM(previous.MAX(credit.CNT_DRAWINGS_POS_CURRENT) WHERE NAME_CONTRACT_STATUS = Canceled)>,\n",
       " <Feature: MEAN(previous.SUM(credit.SK_DPD) WHERE NAME_CONTRACT_STATUS = Canceled)>,\n",
       " <Feature: SUM(cash.SK_DPD_DEF)>,\n",
       " <Feature: TREND(bureau.AMT_CREDIT_SUM, bureau_credit_application_date)>,\n",
       " <Feature: SUM(previous.CUM_SUM(AMT_CREDIT))>]"
      ]
     },
     "execution_count": 43,
     "metadata": {},
     "output_type": "execute_result"
    }
   ],
   "source": [
    "import random\n",
    "random.sample(feature_names, 10)"
   ]
  },
  {
   "cell_type": "code",
   "execution_count": 44,
   "metadata": {
    "_uuid": "0a90aacdfad1fed581583ad5fb8d08d0a90fd56b"
   },
   "outputs": [
    {
     "name": "stdout",
     "output_type": "stream",
     "text": [
      "Removed 742 features from training features\n",
      "Removed 798 features from testing features\n"
     ]
    }
   ],
   "source": [
    "from featuretools import selection\n",
    "\n",
    "# Remove low information features\n",
    "feature_matrix2 = selection.remove_low_information_features(feature_matrix)\n",
    "print('Removed %d features from training features'  % (feature_matrix.shape[1] - feature_matrix2.shape[1]))\n",
    "\n",
    "feature_matrix_test2 = selection.remove_low_information_features(feature_matrix_test)\n",
    "print('Removed %d features from testing features' % (feature_matrix_test.shape[1] - feature_matrix_test2.shape[1]))"
   ]
  },
  {
   "cell_type": "code",
   "execution_count": 45,
   "metadata": {
    "_uuid": "5baa26e49ad61ff3b534fc35cda8f936f9ebcce0"
   },
   "outputs": [
    {
     "name": "stdout",
     "output_type": "stream",
     "text": [
      "Final training shape:  (1001, 3329)\n",
      "Final testing shape:  (1001, 3328)\n"
     ]
    }
   ],
   "source": [
    "train_labels = feature_matrix['TARGET']\n",
    "feature_matrix, feature_matrix_test = feature_matrix2.align(feature_matrix_test2, join = 'inner', axis = 1)\n",
    "feature_matrix['TARGET'] = train_labels\n",
    "\n",
    "print('Final training shape: ', feature_matrix.shape)\n",
    "print('Final testing shape: ', feature_matrix_test.shape)"
   ]
  },
  {
   "cell_type": "code",
   "execution_count": 47,
   "metadata": {
    "_uuid": "924b3135a6c0e3b3b0874725bfe14584f8b5323d"
   },
   "outputs": [],
   "source": [
    "# Save the feature matrix to a csv\n",
    "feature_matrix.to_csv('sub_feature_matrix.csv')\n",
    "feature_matrix_test.to_csv('sub_feature_matrix_test.csv')"
   ]
  }
 ],
 "metadata": {
  "kernelspec": {
   "display_name": "Python 3",
   "language": "python",
   "name": "python3"
  },
  "language_info": {
   "codemirror_mode": {
    "name": "ipython",
    "version": 3
   },
   "file_extension": ".py",
   "mimetype": "text/x-python",
   "name": "python",
   "nbconvert_exporter": "python",
   "pygments_lexer": "ipython3",
   "version": "3.7.1"
  },
  "latex_envs": {
   "LaTeX_envs_menu_present": true,
   "autoclose": false,
   "autocomplete": true,
   "bibliofile": "biblio.bib",
   "cite_by": "apalike",
   "current_citInitial": 1,
   "eqLabelWithNumbers": true,
   "eqNumInitial": 1,
   "hotkeys": {
    "equation": "Ctrl-E",
    "itemize": "Ctrl-I"
   },
   "labels_anchors": false,
   "latex_user_defs": false,
   "report_style_numbering": false,
   "user_envs_cfg": false
  }
 },
 "nbformat": 4,
 "nbformat_minor": 2
}
