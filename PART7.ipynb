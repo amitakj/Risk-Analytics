{
 "cells": [
  {
   "cell_type": "code",
   "execution_count": 1,
   "metadata": {},
   "outputs": [],
   "source": [
    "PATH = 'D:/IPYNB/Ipynb project/project/New Notebooks/'"
   ]
  },
  {
   "cell_type": "code",
   "execution_count": 2,
   "metadata": {
    "_cell_guid": "b1076dfc-b9ad-4769-8c92-a6c4dae69d19",
    "_uuid": "8f2839f25d086af736a60e9eeb907d3b93b6e0e5"
   },
   "outputs": [],
   "source": [
    "# pandas and numpy for data manipulation\n",
    "import pandas as pd\n",
    "import numpy as np\n",
    "\n",
    "# featuretools for automated feature engineering\n",
    "import featuretools as ft\n",
    "\n",
    "# matplotlit and seaborn for visualizations\n",
    "import matplotlib.pyplot as plt\n",
    "plt.rcParams['font.size'] = 22\n",
    "import seaborn as sns\n",
    "\n",
    "# Suppress warnings from pandas\n",
    "import warnings\n",
    "warnings.filterwarnings('ignore')\n",
    "\n",
    "# modeling \n",
    "import lightgbm as lgb\n",
    "\n",
    "# utilities\n",
    "from sklearn.model_selection import train_test_split\n",
    "from sklearn.model_selection import KFold\n",
    "from sklearn.metrics import roc_auc_score\n",
    "from sklearn.preprocessing import LabelEncoder\n",
    "\n",
    "# memory management\n",
    "import gc"
   ]
  },
  {
   "cell_type": "markdown",
   "metadata": {},
   "source": [
    "### * `train_bureau` is the training features built manually using the `bureau` and `bureau_balance` data\n",
    "### * `train_previous` is the training features built manually using the `previous`, `cash`, `credit`, and `installments` data\n",
    "\n",
    "We first see how many features we built over the manual engineering process. Here we use a couple of set operations to find the columns that are only in the `bureau`, only in the `previous`, and in both dataframes, indicating that there are `original` features from the `application` dataframe. Here we work with a small subset of the data in order to not overwhelm the machine. This code has also been run on the full dataset (we will take a look at some of the results)."
   ]
  },
  {
   "cell_type": "code",
   "execution_count": 3,
   "metadata": {
    "_cell_guid": "79c7e3d0-c299-4dcb-8224-4455121ee9b0",
    "_uuid": "d629ff2d2480ee46fbb7e2d37f6b5fab8052498a"
   },
   "outputs": [],
   "source": [
    "# Read in data\n",
    "train_bureau = pd.read_csv(f'{PATH}home-credit-manual-engineered-features/train_bureau_raw.csv', nrows = 1000)\n",
    "test_bureau = pd.read_csv(f'{PATH}home-credit-manual-engineered-features/test_bureau_raw.csv', nrows = 1000)\n",
    "\n",
    "train_previous = pd.read_csv(f'{PATH}home-credit-manual-engineered-features/train_previous_raw.csv', nrows = 1000)\n",
    "test_previous = pd.read_csv(f'{PATH}home-credit-manual-engineered-features/test_previous_raw.csv', nrows = 1000)\n",
    "\n",
    "# All columns in dataframes\n",
    "bureau_columns = list(train_bureau.columns)\n",
    "previous_columns = list(train_previous.columns)"
   ]
  },
  {
   "cell_type": "code",
   "execution_count": 4,
   "metadata": {
    "_uuid": "af78939941b510855d5a972ca24e33037c003977"
   },
   "outputs": [
    {
     "name": "stdout",
     "output_type": "stream",
     "text": [
      "There are 123 original features.\n",
      "There are 179 bureau and bureau balance features.\n",
      "There are 1043 previous Home Credit loan features.\n"
     ]
    }
   ],
   "source": [
    "# Bureau only features\n",
    "bureau_features = list(set(bureau_columns) - set(previous_columns))\n",
    "\n",
    "# Previous only features\n",
    "previous_features = list(set(previous_columns) - set(bureau_columns))\n",
    "\n",
    "# Original features will be in both datasets\n",
    "original_features = list(set(previous_columns) & set(bureau_columns))\n",
    "\n",
    "print('There are %d original features.' % len(original_features))\n",
    "print('There are %d bureau and bureau balance features.' % len(bureau_features))\n",
    "print('There are %d previous Home Credit loan features.' % len(previous_features))"
   ]
  },
  {
   "cell_type": "markdown",
   "metadata": {
    "_uuid": "951caa5d7f4a0033ff4148039d73ba153034cb61"
   },
   "source": [
    "### That gives us the number of features in each dataframe. Now we combine the data without creating any duplicate rows. "
   ]
  },
  {
   "cell_type": "code",
   "execution_count": 5,
   "metadata": {
    "_uuid": "b0da702050879ddfb8aecc4c23186e7ee97923ba"
   },
   "outputs": [
    {
     "name": "stdout",
     "output_type": "stream",
     "text": [
      "Training shape:  (1000, 1345)\n",
      "Testing shape:  (1000, 1344)\n"
     ]
    }
   ],
   "source": [
    "train_labels = train_bureau['TARGET']\n",
    "previous_features.append('SK_ID_CURR')\n",
    "\n",
    "train_ids = train_bureau['SK_ID_CURR']\n",
    "test_ids = test_bureau['SK_ID_CURR']\n",
    "\n",
    "# Merge the dataframes avoiding duplicating columns by subsetting train_previous\n",
    "train = train_bureau.merge(train_previous[previous_features], on = 'SK_ID_CURR')\n",
    "test = test_bureau.merge(test_previous[previous_features], on = 'SK_ID_CURR')\n",
    "\n",
    "print('Training shape: ', train.shape)\n",
    "print('Testing shape: ', test.shape)"
   ]
  },
  {
   "cell_type": "code",
   "execution_count": 6,
   "metadata": {
    "_uuid": "356f67ea6d19d408bc19e1a58ee5f23693a3944a"
   },
   "outputs": [
    {
     "name": "stdout",
     "output_type": "stream",
     "text": [
      "Training shape:  (1000, 1447)\n",
      "Testing shape:  (1000, 1447)\n"
     ]
    }
   ],
   "source": [
    "# One hot encoding\n",
    "train = pd.get_dummies(train)\n",
    "test = pd.get_dummies(test)\n",
    "\n",
    "# Match the columns in the dataframes\n",
    "train, test = train.align(test, join = 'inner', axis = 1)\n",
    "print('Training shape: ', train.shape)\n",
    "print('Testing shape: ', test.shape)"
   ]
  },
  {
   "cell_type": "markdown",
   "metadata": {
    "_uuid": "c2031dd11cb58242acb31db9b3557603e1de5dce"
   },
   "source": [
    "### When we did this to the full dataset, we get __1465__ features. "
   ]
  },
  {
   "cell_type": "markdown",
   "metadata": {},
   "source": [
    "### Correcting Mistakes\n",
    "When were doing manual feature engineering, we accidentally created some columns derived from the client id, `SK_ID_CURR`. As this is a unique identifier for each client, it should not have any predictive power, and we would not want to build a model trained on this \"feature\". So we remove any columns built on the `SK_ID_CURR`."
   ]
  },
  {
   "cell_type": "code",
   "execution_count": 7,
   "metadata": {
    "_uuid": "330d43c9cf3e7236fbd4a6852a10efd014b433ce"
   },
   "outputs": [
    {
     "name": "stdout",
     "output_type": "stream",
     "text": [
      "There are 49 columns that contain SK_ID_CURR\n",
      "There are 0 columns that contain SK_ID_BUREAU\n",
      "There are 0 columns that contain SK_ID_PREV\n",
      "Training shape:  (1000, 1398)\n",
      "Testing shape:  (1000, 1398)\n"
     ]
    }
   ],
   "source": [
    "cols_with_id = [x for x in train.columns if 'SK_ID_CURR' in x]\n",
    "cols_with_bureau_id = [x for x in train.columns if 'SK_ID_BUREAU' in x]\n",
    "cols_with_previous_id = [x for x in train.columns if 'SK_ID_PREV' in x]\n",
    "print('There are %d columns that contain SK_ID_CURR' % len(cols_with_id))\n",
    "print('There are %d columns that contain SK_ID_BUREAU' % len(cols_with_bureau_id))\n",
    "print('There are %d columns that contain SK_ID_PREV' % len(cols_with_previous_id))\n",
    "\n",
    "train = train.drop(columns = cols_with_id)\n",
    "test = test.drop(columns = cols_with_id)\n",
    "print('Training shape: ', train.shape)\n",
    "print('Testing shape: ', test.shape)"
   ]
  },
  {
   "cell_type": "markdown",
   "metadata": {},
   "source": [
    "### After applying this to the full dataset, we end up with 1416 features. More features might seem like a good thing, and they can be if they help our model learn. However, irrelevant features, highly correlated features, and missing values can prevent the model from learning and decrease generalization performance on the testing data. Therefore, we perform feature selection to keep only the most useful variables. We start feature selection by focusing on collinear variables."
   ]
  },
  {
   "cell_type": "markdown",
   "metadata": {},
   "source": [
    "### Remove Collinear Variables\n",
    "\n",
    "Collinear variables are those which are highly correlated with one another. These can decrease the model's availablility to learn, decrease model interpretability, and decrease generalization performance on the test set, these are three things we want to increase, so removing collinear variables is a useful step. We establish an admittedly arbitrary threshold for removing collinear variables, and then remove one out of any pair of variables that is above that threshold. \n",
    "\n",
    "The code below identifies the highly correlated variables based on the absolute magnitude of the Pearson correlation coefficient being greater than 0.9. Again, this is not entirely accurate since we are dealing with such a limited section of the data.\n",
    "\n",
    "This code is adapted from [work by Chris Albon](https://chrisalbon.com/machine_learning/feature_selection/drop_highly_correlated_features/)."
   ]
  },
  {
   "cell_type": "markdown",
   "metadata": {},
   "source": [
    "### Identify Correlated Variables"
   ]
  },
  {
   "cell_type": "code",
   "execution_count": 8,
   "metadata": {
    "_uuid": "59259cf2be69f0c5e699109f9177287599836354"
   },
   "outputs": [
    {
     "data": {
      "text/html": [
       "<div>\n",
       "<style scoped>\n",
       "    .dataframe tbody tr th:only-of-type {\n",
       "        vertical-align: middle;\n",
       "    }\n",
       "\n",
       "    .dataframe tbody tr th {\n",
       "        vertical-align: top;\n",
       "    }\n",
       "\n",
       "    .dataframe thead th {\n",
       "        text-align: right;\n",
       "    }\n",
       "</style>\n",
       "<table border=\"1\" class=\"dataframe\">\n",
       "  <thead>\n",
       "    <tr style=\"text-align: right;\">\n",
       "      <th></th>\n",
       "      <th>CNT_CHILDREN</th>\n",
       "      <th>AMT_INCOME_TOTAL</th>\n",
       "      <th>AMT_CREDIT</th>\n",
       "      <th>AMT_ANNUITY</th>\n",
       "      <th>AMT_GOODS_PRICE</th>\n",
       "      <th>REGION_POPULATION_RELATIVE</th>\n",
       "      <th>DAYS_BIRTH</th>\n",
       "      <th>DAYS_EMPLOYED</th>\n",
       "      <th>DAYS_REGISTRATION</th>\n",
       "      <th>DAYS_ID_PUBLISH</th>\n",
       "      <th>...</th>\n",
       "      <th>HOUSETYPE_MODE_terraced house</th>\n",
       "      <th>WALLSMATERIAL_MODE_Block</th>\n",
       "      <th>WALLSMATERIAL_MODE_Mixed</th>\n",
       "      <th>WALLSMATERIAL_MODE_Monolithic</th>\n",
       "      <th>WALLSMATERIAL_MODE_Others</th>\n",
       "      <th>WALLSMATERIAL_MODE_Panel</th>\n",
       "      <th>WALLSMATERIAL_MODE_Stone, brick</th>\n",
       "      <th>WALLSMATERIAL_MODE_Wooden</th>\n",
       "      <th>EMERGENCYSTATE_MODE_No</th>\n",
       "      <th>EMERGENCYSTATE_MODE_Yes</th>\n",
       "    </tr>\n",
       "  </thead>\n",
       "  <tbody>\n",
       "    <tr>\n",
       "      <th>CNT_CHILDREN</th>\n",
       "      <td>1.000000</td>\n",
       "      <td>0.055960</td>\n",
       "      <td>0.036836</td>\n",
       "      <td>0.055732</td>\n",
       "      <td>0.035851</td>\n",
       "      <td>0.060210</td>\n",
       "      <td>0.303782</td>\n",
       "      <td>0.218535</td>\n",
       "      <td>0.211766</td>\n",
       "      <td>0.036960</td>\n",
       "      <td>...</td>\n",
       "      <td>0.096914</td>\n",
       "      <td>0.064817</td>\n",
       "      <td>0.024544</td>\n",
       "      <td>0.019465</td>\n",
       "      <td>0.005586</td>\n",
       "      <td>0.030986</td>\n",
       "      <td>0.001443</td>\n",
       "      <td>0.027967</td>\n",
       "      <td>0.004500</td>\n",
       "      <td>0.020465</td>\n",
       "    </tr>\n",
       "    <tr>\n",
       "      <th>AMT_INCOME_TOTAL</th>\n",
       "      <td>0.055960</td>\n",
       "      <td>1.000000</td>\n",
       "      <td>0.429317</td>\n",
       "      <td>0.491143</td>\n",
       "      <td>0.439981</td>\n",
       "      <td>0.184339</td>\n",
       "      <td>0.088743</td>\n",
       "      <td>0.208663</td>\n",
       "      <td>0.130682</td>\n",
       "      <td>0.045634</td>\n",
       "      <td>...</td>\n",
       "      <td>0.033574</td>\n",
       "      <td>0.064520</td>\n",
       "      <td>0.020186</td>\n",
       "      <td>0.058210</td>\n",
       "      <td>0.060465</td>\n",
       "      <td>0.080291</td>\n",
       "      <td>0.000218</td>\n",
       "      <td>0.043426</td>\n",
       "      <td>0.107476</td>\n",
       "      <td>0.030645</td>\n",
       "    </tr>\n",
       "    <tr>\n",
       "      <th>AMT_CREDIT</th>\n",
       "      <td>0.036836</td>\n",
       "      <td>0.429317</td>\n",
       "      <td>1.000000</td>\n",
       "      <td>0.797209</td>\n",
       "      <td>0.986046</td>\n",
       "      <td>0.074287</td>\n",
       "      <td>0.065100</td>\n",
       "      <td>0.116515</td>\n",
       "      <td>0.027876</td>\n",
       "      <td>0.022994</td>\n",
       "      <td>...</td>\n",
       "      <td>0.005136</td>\n",
       "      <td>0.011202</td>\n",
       "      <td>0.007313</td>\n",
       "      <td>0.060005</td>\n",
       "      <td>0.009795</td>\n",
       "      <td>0.098314</td>\n",
       "      <td>0.018123</td>\n",
       "      <td>0.009507</td>\n",
       "      <td>0.075595</td>\n",
       "      <td>0.009483</td>\n",
       "    </tr>\n",
       "    <tr>\n",
       "      <th>AMT_ANNUITY</th>\n",
       "      <td>0.055732</td>\n",
       "      <td>0.491143</td>\n",
       "      <td>0.797209</td>\n",
       "      <td>1.000000</td>\n",
       "      <td>0.799121</td>\n",
       "      <td>0.106685</td>\n",
       "      <td>0.019480</td>\n",
       "      <td>0.139220</td>\n",
       "      <td>0.059163</td>\n",
       "      <td>0.024020</td>\n",
       "      <td>...</td>\n",
       "      <td>0.011107</td>\n",
       "      <td>0.022890</td>\n",
       "      <td>0.017907</td>\n",
       "      <td>0.084270</td>\n",
       "      <td>0.022107</td>\n",
       "      <td>0.133969</td>\n",
       "      <td>0.036801</td>\n",
       "      <td>0.032497</td>\n",
       "      <td>0.098291</td>\n",
       "      <td>0.036308</td>\n",
       "    </tr>\n",
       "    <tr>\n",
       "      <th>AMT_GOODS_PRICE</th>\n",
       "      <td>0.035851</td>\n",
       "      <td>0.439981</td>\n",
       "      <td>0.986046</td>\n",
       "      <td>0.799121</td>\n",
       "      <td>1.000000</td>\n",
       "      <td>0.073531</td>\n",
       "      <td>0.058535</td>\n",
       "      <td>0.115613</td>\n",
       "      <td>0.034500</td>\n",
       "      <td>0.030878</td>\n",
       "      <td>...</td>\n",
       "      <td>0.002397</td>\n",
       "      <td>0.020737</td>\n",
       "      <td>0.000716</td>\n",
       "      <td>0.069845</td>\n",
       "      <td>0.014077</td>\n",
       "      <td>0.094081</td>\n",
       "      <td>0.012866</td>\n",
       "      <td>0.019114</td>\n",
       "      <td>0.082543</td>\n",
       "      <td>0.000395</td>\n",
       "    </tr>\n",
       "  </tbody>\n",
       "</table>\n",
       "<p>5 rows × 1398 columns</p>\n",
       "</div>"
      ],
      "text/plain": [
       "                  CNT_CHILDREN  AMT_INCOME_TOTAL  AMT_CREDIT  AMT_ANNUITY  \\\n",
       "CNT_CHILDREN          1.000000          0.055960    0.036836     0.055732   \n",
       "AMT_INCOME_TOTAL      0.055960          1.000000    0.429317     0.491143   \n",
       "AMT_CREDIT            0.036836          0.429317    1.000000     0.797209   \n",
       "AMT_ANNUITY           0.055732          0.491143    0.797209     1.000000   \n",
       "AMT_GOODS_PRICE       0.035851          0.439981    0.986046     0.799121   \n",
       "\n",
       "                  AMT_GOODS_PRICE  REGION_POPULATION_RELATIVE  DAYS_BIRTH  \\\n",
       "CNT_CHILDREN             0.035851                    0.060210    0.303782   \n",
       "AMT_INCOME_TOTAL         0.439981                    0.184339    0.088743   \n",
       "AMT_CREDIT               0.986046                    0.074287    0.065100   \n",
       "AMT_ANNUITY              0.799121                    0.106685    0.019480   \n",
       "AMT_GOODS_PRICE          1.000000                    0.073531    0.058535   \n",
       "\n",
       "                  DAYS_EMPLOYED  DAYS_REGISTRATION  DAYS_ID_PUBLISH  \\\n",
       "CNT_CHILDREN           0.218535           0.211766         0.036960   \n",
       "AMT_INCOME_TOTAL       0.208663           0.130682         0.045634   \n",
       "AMT_CREDIT             0.116515           0.027876         0.022994   \n",
       "AMT_ANNUITY            0.139220           0.059163         0.024020   \n",
       "AMT_GOODS_PRICE        0.115613           0.034500         0.030878   \n",
       "\n",
       "                           ...             HOUSETYPE_MODE_terraced house  \\\n",
       "CNT_CHILDREN               ...                                  0.096914   \n",
       "AMT_INCOME_TOTAL           ...                                  0.033574   \n",
       "AMT_CREDIT                 ...                                  0.005136   \n",
       "AMT_ANNUITY                ...                                  0.011107   \n",
       "AMT_GOODS_PRICE            ...                                  0.002397   \n",
       "\n",
       "                  WALLSMATERIAL_MODE_Block  WALLSMATERIAL_MODE_Mixed  \\\n",
       "CNT_CHILDREN                      0.064817                  0.024544   \n",
       "AMT_INCOME_TOTAL                  0.064520                  0.020186   \n",
       "AMT_CREDIT                        0.011202                  0.007313   \n",
       "AMT_ANNUITY                       0.022890                  0.017907   \n",
       "AMT_GOODS_PRICE                   0.020737                  0.000716   \n",
       "\n",
       "                  WALLSMATERIAL_MODE_Monolithic  WALLSMATERIAL_MODE_Others  \\\n",
       "CNT_CHILDREN                           0.019465                   0.005586   \n",
       "AMT_INCOME_TOTAL                       0.058210                   0.060465   \n",
       "AMT_CREDIT                             0.060005                   0.009795   \n",
       "AMT_ANNUITY                            0.084270                   0.022107   \n",
       "AMT_GOODS_PRICE                        0.069845                   0.014077   \n",
       "\n",
       "                  WALLSMATERIAL_MODE_Panel  WALLSMATERIAL_MODE_Stone, brick  \\\n",
       "CNT_CHILDREN                      0.030986                         0.001443   \n",
       "AMT_INCOME_TOTAL                  0.080291                         0.000218   \n",
       "AMT_CREDIT                        0.098314                         0.018123   \n",
       "AMT_ANNUITY                       0.133969                         0.036801   \n",
       "AMT_GOODS_PRICE                   0.094081                         0.012866   \n",
       "\n",
       "                  WALLSMATERIAL_MODE_Wooden  EMERGENCYSTATE_MODE_No  \\\n",
       "CNT_CHILDREN                       0.027967                0.004500   \n",
       "AMT_INCOME_TOTAL                   0.043426                0.107476   \n",
       "AMT_CREDIT                         0.009507                0.075595   \n",
       "AMT_ANNUITY                        0.032497                0.098291   \n",
       "AMT_GOODS_PRICE                    0.019114                0.082543   \n",
       "\n",
       "                  EMERGENCYSTATE_MODE_Yes  \n",
       "CNT_CHILDREN                     0.020465  \n",
       "AMT_INCOME_TOTAL                 0.030645  \n",
       "AMT_CREDIT                       0.009483  \n",
       "AMT_ANNUITY                      0.036308  \n",
       "AMT_GOODS_PRICE                  0.000395  \n",
       "\n",
       "[5 rows x 1398 columns]"
      ]
     },
     "execution_count": 8,
     "metadata": {},
     "output_type": "execute_result"
    }
   ],
   "source": [
    "# Threshold for removing correlated variables\n",
    "threshold = 0.9\n",
    "\n",
    "# Absolute value correlation matrix\n",
    "corr_matrix = train.corr().abs()\n",
    "corr_matrix.head()"
   ]
  },
  {
   "cell_type": "code",
   "execution_count": 9,
   "metadata": {
    "_uuid": "7c33392948540b626cf213fa6dea316766627eb9"
   },
   "outputs": [
    {
     "data": {
      "text/html": [
       "<div>\n",
       "<style scoped>\n",
       "    .dataframe tbody tr th:only-of-type {\n",
       "        vertical-align: middle;\n",
       "    }\n",
       "\n",
       "    .dataframe tbody tr th {\n",
       "        vertical-align: top;\n",
       "    }\n",
       "\n",
       "    .dataframe thead th {\n",
       "        text-align: right;\n",
       "    }\n",
       "</style>\n",
       "<table border=\"1\" class=\"dataframe\">\n",
       "  <thead>\n",
       "    <tr style=\"text-align: right;\">\n",
       "      <th></th>\n",
       "      <th>CNT_CHILDREN</th>\n",
       "      <th>AMT_INCOME_TOTAL</th>\n",
       "      <th>AMT_CREDIT</th>\n",
       "      <th>AMT_ANNUITY</th>\n",
       "      <th>AMT_GOODS_PRICE</th>\n",
       "      <th>REGION_POPULATION_RELATIVE</th>\n",
       "      <th>DAYS_BIRTH</th>\n",
       "      <th>DAYS_EMPLOYED</th>\n",
       "      <th>DAYS_REGISTRATION</th>\n",
       "      <th>DAYS_ID_PUBLISH</th>\n",
       "      <th>...</th>\n",
       "      <th>HOUSETYPE_MODE_terraced house</th>\n",
       "      <th>WALLSMATERIAL_MODE_Block</th>\n",
       "      <th>WALLSMATERIAL_MODE_Mixed</th>\n",
       "      <th>WALLSMATERIAL_MODE_Monolithic</th>\n",
       "      <th>WALLSMATERIAL_MODE_Others</th>\n",
       "      <th>WALLSMATERIAL_MODE_Panel</th>\n",
       "      <th>WALLSMATERIAL_MODE_Stone, brick</th>\n",
       "      <th>WALLSMATERIAL_MODE_Wooden</th>\n",
       "      <th>EMERGENCYSTATE_MODE_No</th>\n",
       "      <th>EMERGENCYSTATE_MODE_Yes</th>\n",
       "    </tr>\n",
       "  </thead>\n",
       "  <tbody>\n",
       "    <tr>\n",
       "      <th>CNT_CHILDREN</th>\n",
       "      <td>NaN</td>\n",
       "      <td>0.05596</td>\n",
       "      <td>0.036836</td>\n",
       "      <td>0.055732</td>\n",
       "      <td>0.035851</td>\n",
       "      <td>0.060210</td>\n",
       "      <td>0.303782</td>\n",
       "      <td>0.218535</td>\n",
       "      <td>0.211766</td>\n",
       "      <td>0.036960</td>\n",
       "      <td>...</td>\n",
       "      <td>0.096914</td>\n",
       "      <td>0.064817</td>\n",
       "      <td>0.024544</td>\n",
       "      <td>0.019465</td>\n",
       "      <td>0.005586</td>\n",
       "      <td>0.030986</td>\n",
       "      <td>0.001443</td>\n",
       "      <td>0.027967</td>\n",
       "      <td>0.004500</td>\n",
       "      <td>0.020465</td>\n",
       "    </tr>\n",
       "    <tr>\n",
       "      <th>AMT_INCOME_TOTAL</th>\n",
       "      <td>NaN</td>\n",
       "      <td>NaN</td>\n",
       "      <td>0.429317</td>\n",
       "      <td>0.491143</td>\n",
       "      <td>0.439981</td>\n",
       "      <td>0.184339</td>\n",
       "      <td>0.088743</td>\n",
       "      <td>0.208663</td>\n",
       "      <td>0.130682</td>\n",
       "      <td>0.045634</td>\n",
       "      <td>...</td>\n",
       "      <td>0.033574</td>\n",
       "      <td>0.064520</td>\n",
       "      <td>0.020186</td>\n",
       "      <td>0.058210</td>\n",
       "      <td>0.060465</td>\n",
       "      <td>0.080291</td>\n",
       "      <td>0.000218</td>\n",
       "      <td>0.043426</td>\n",
       "      <td>0.107476</td>\n",
       "      <td>0.030645</td>\n",
       "    </tr>\n",
       "    <tr>\n",
       "      <th>AMT_CREDIT</th>\n",
       "      <td>NaN</td>\n",
       "      <td>NaN</td>\n",
       "      <td>NaN</td>\n",
       "      <td>0.797209</td>\n",
       "      <td>0.986046</td>\n",
       "      <td>0.074287</td>\n",
       "      <td>0.065100</td>\n",
       "      <td>0.116515</td>\n",
       "      <td>0.027876</td>\n",
       "      <td>0.022994</td>\n",
       "      <td>...</td>\n",
       "      <td>0.005136</td>\n",
       "      <td>0.011202</td>\n",
       "      <td>0.007313</td>\n",
       "      <td>0.060005</td>\n",
       "      <td>0.009795</td>\n",
       "      <td>0.098314</td>\n",
       "      <td>0.018123</td>\n",
       "      <td>0.009507</td>\n",
       "      <td>0.075595</td>\n",
       "      <td>0.009483</td>\n",
       "    </tr>\n",
       "    <tr>\n",
       "      <th>AMT_ANNUITY</th>\n",
       "      <td>NaN</td>\n",
       "      <td>NaN</td>\n",
       "      <td>NaN</td>\n",
       "      <td>NaN</td>\n",
       "      <td>0.799121</td>\n",
       "      <td>0.106685</td>\n",
       "      <td>0.019480</td>\n",
       "      <td>0.139220</td>\n",
       "      <td>0.059163</td>\n",
       "      <td>0.024020</td>\n",
       "      <td>...</td>\n",
       "      <td>0.011107</td>\n",
       "      <td>0.022890</td>\n",
       "      <td>0.017907</td>\n",
       "      <td>0.084270</td>\n",
       "      <td>0.022107</td>\n",
       "      <td>0.133969</td>\n",
       "      <td>0.036801</td>\n",
       "      <td>0.032497</td>\n",
       "      <td>0.098291</td>\n",
       "      <td>0.036308</td>\n",
       "    </tr>\n",
       "    <tr>\n",
       "      <th>AMT_GOODS_PRICE</th>\n",
       "      <td>NaN</td>\n",
       "      <td>NaN</td>\n",
       "      <td>NaN</td>\n",
       "      <td>NaN</td>\n",
       "      <td>NaN</td>\n",
       "      <td>0.073531</td>\n",
       "      <td>0.058535</td>\n",
       "      <td>0.115613</td>\n",
       "      <td>0.034500</td>\n",
       "      <td>0.030878</td>\n",
       "      <td>...</td>\n",
       "      <td>0.002397</td>\n",
       "      <td>0.020737</td>\n",
       "      <td>0.000716</td>\n",
       "      <td>0.069845</td>\n",
       "      <td>0.014077</td>\n",
       "      <td>0.094081</td>\n",
       "      <td>0.012866</td>\n",
       "      <td>0.019114</td>\n",
       "      <td>0.082543</td>\n",
       "      <td>0.000395</td>\n",
       "    </tr>\n",
       "  </tbody>\n",
       "</table>\n",
       "<p>5 rows × 1398 columns</p>\n",
       "</div>"
      ],
      "text/plain": [
       "                  CNT_CHILDREN  AMT_INCOME_TOTAL  AMT_CREDIT  AMT_ANNUITY  \\\n",
       "CNT_CHILDREN               NaN           0.05596    0.036836     0.055732   \n",
       "AMT_INCOME_TOTAL           NaN               NaN    0.429317     0.491143   \n",
       "AMT_CREDIT                 NaN               NaN         NaN     0.797209   \n",
       "AMT_ANNUITY                NaN               NaN         NaN          NaN   \n",
       "AMT_GOODS_PRICE            NaN               NaN         NaN          NaN   \n",
       "\n",
       "                  AMT_GOODS_PRICE  REGION_POPULATION_RELATIVE  DAYS_BIRTH  \\\n",
       "CNT_CHILDREN             0.035851                    0.060210    0.303782   \n",
       "AMT_INCOME_TOTAL         0.439981                    0.184339    0.088743   \n",
       "AMT_CREDIT               0.986046                    0.074287    0.065100   \n",
       "AMT_ANNUITY              0.799121                    0.106685    0.019480   \n",
       "AMT_GOODS_PRICE               NaN                    0.073531    0.058535   \n",
       "\n",
       "                  DAYS_EMPLOYED  DAYS_REGISTRATION  DAYS_ID_PUBLISH  \\\n",
       "CNT_CHILDREN           0.218535           0.211766         0.036960   \n",
       "AMT_INCOME_TOTAL       0.208663           0.130682         0.045634   \n",
       "AMT_CREDIT             0.116515           0.027876         0.022994   \n",
       "AMT_ANNUITY            0.139220           0.059163         0.024020   \n",
       "AMT_GOODS_PRICE        0.115613           0.034500         0.030878   \n",
       "\n",
       "                           ...             HOUSETYPE_MODE_terraced house  \\\n",
       "CNT_CHILDREN               ...                                  0.096914   \n",
       "AMT_INCOME_TOTAL           ...                                  0.033574   \n",
       "AMT_CREDIT                 ...                                  0.005136   \n",
       "AMT_ANNUITY                ...                                  0.011107   \n",
       "AMT_GOODS_PRICE            ...                                  0.002397   \n",
       "\n",
       "                  WALLSMATERIAL_MODE_Block  WALLSMATERIAL_MODE_Mixed  \\\n",
       "CNT_CHILDREN                      0.064817                  0.024544   \n",
       "AMT_INCOME_TOTAL                  0.064520                  0.020186   \n",
       "AMT_CREDIT                        0.011202                  0.007313   \n",
       "AMT_ANNUITY                       0.022890                  0.017907   \n",
       "AMT_GOODS_PRICE                   0.020737                  0.000716   \n",
       "\n",
       "                  WALLSMATERIAL_MODE_Monolithic  WALLSMATERIAL_MODE_Others  \\\n",
       "CNT_CHILDREN                           0.019465                   0.005586   \n",
       "AMT_INCOME_TOTAL                       0.058210                   0.060465   \n",
       "AMT_CREDIT                             0.060005                   0.009795   \n",
       "AMT_ANNUITY                            0.084270                   0.022107   \n",
       "AMT_GOODS_PRICE                        0.069845                   0.014077   \n",
       "\n",
       "                  WALLSMATERIAL_MODE_Panel  WALLSMATERIAL_MODE_Stone, brick  \\\n",
       "CNT_CHILDREN                      0.030986                         0.001443   \n",
       "AMT_INCOME_TOTAL                  0.080291                         0.000218   \n",
       "AMT_CREDIT                        0.098314                         0.018123   \n",
       "AMT_ANNUITY                       0.133969                         0.036801   \n",
       "AMT_GOODS_PRICE                   0.094081                         0.012866   \n",
       "\n",
       "                  WALLSMATERIAL_MODE_Wooden  EMERGENCYSTATE_MODE_No  \\\n",
       "CNT_CHILDREN                       0.027967                0.004500   \n",
       "AMT_INCOME_TOTAL                   0.043426                0.107476   \n",
       "AMT_CREDIT                         0.009507                0.075595   \n",
       "AMT_ANNUITY                        0.032497                0.098291   \n",
       "AMT_GOODS_PRICE                    0.019114                0.082543   \n",
       "\n",
       "                  EMERGENCYSTATE_MODE_Yes  \n",
       "CNT_CHILDREN                     0.020465  \n",
       "AMT_INCOME_TOTAL                 0.030645  \n",
       "AMT_CREDIT                       0.009483  \n",
       "AMT_ANNUITY                      0.036308  \n",
       "AMT_GOODS_PRICE                  0.000395  \n",
       "\n",
       "[5 rows x 1398 columns]"
      ]
     },
     "execution_count": 9,
     "metadata": {},
     "output_type": "execute_result"
    }
   ],
   "source": [
    "# Upper triangle of correlations\n",
    "upper = corr_matrix.where(np.triu(np.ones(corr_matrix.shape), k=1).astype(np.bool))\n",
    "upper.head()"
   ]
  },
  {
   "cell_type": "markdown",
   "metadata": {},
   "source": [
    "### Drop Correlated Variables"
   ]
  },
  {
   "cell_type": "code",
   "execution_count": 10,
   "metadata": {
    "_uuid": "1517d554f80a8eed2c0e03303fe7d1fb4a469131"
   },
   "outputs": [
    {
     "name": "stdout",
     "output_type": "stream",
     "text": [
      "There are 585 columns to remove.\n"
     ]
    }
   ],
   "source": [
    "# Select columns with correlations above threshold\n",
    "to_drop = [column for column in upper.columns if any(upper[column] > threshold)]\n",
    "\n",
    "print('There are %d columns to remove.' % (len(to_drop)))"
   ]
  },
  {
   "cell_type": "code",
   "execution_count": 11,
   "metadata": {
    "_uuid": "2c18834968dac305317a5a881308a0c9a3cce353"
   },
   "outputs": [
    {
     "name": "stdout",
     "output_type": "stream",
     "text": [
      "Training shape:  (1000, 813)\n",
      "Testing shape:  (1000, 813)\n"
     ]
    }
   ],
   "source": [
    "train = train.drop(columns = to_drop)\n",
    "test = test.drop(columns = to_drop)\n",
    "\n",
    "print('Training shape: ', train.shape)\n",
    "print('Testing shape: ', test.shape)"
   ]
  },
  {
   "cell_type": "markdown",
   "metadata": {},
   "source": [
    "### Applying this on the entire dataset results in 538  collinear features removed.  \n",
    "\n",
    "This has reduced the number of features singificantly, but it is likely still too many. At this point, we read in the full dataset after removing correlated variables for further feature selection.\n",
    "\n",
    "The full datasets (after removing correlated variables) are available in `m_train_combined.csv` and `m_test_combined.csv`."
   ]
  },
  {
   "cell_type": "markdown",
   "metadata": {},
   "source": [
    "### Read in Full Dataset\n",
    "\n",
    "Now we move on to the full set of features. These were built by applying the above steps to the entire `train_bureau` and `train_previous` files"
   ]
  },
  {
   "cell_type": "code",
   "execution_count": 12,
   "metadata": {
    "_uuid": "e8384e3033ee466ab3c426d8330822e974ad3c1b"
   },
   "outputs": [],
   "source": [
    "train = pd.read_csv(f'{PATH}home-credit-manual-engineered-features/m_train_combined.csv')\n",
    "test = pd.read_csv(f'{PATH}home-credit-manual-engineered-features/m_test_combined.csv')"
   ]
  },
  {
   "cell_type": "code",
   "execution_count": 13,
   "metadata": {
    "_uuid": "18d3be4bd305a82d6bba1c2a6b7d2876abb098d9"
   },
   "outputs": [
    {
     "name": "stdout",
     "output_type": "stream",
     "text": [
      "Training set full shape:  (307511, 865)\n",
      "Testing set full shape:  (48744, 864)\n"
     ]
    }
   ],
   "source": [
    "print('Training set full shape: ', train.shape)\n",
    "print('Testing set full shape: ' , test.shape)"
   ]
  },
  {
   "cell_type": "markdown",
   "metadata": {},
   "source": [
    "### Remove Missing Values\n",
    "\n",
    "A relatively simple choice of feature selection is removing missing values. We have to decide what percentage of missing values is the minimum threshold for removing a column. Like many choices in machine learning, there is no right answer, and not even a general rule of thumb for making this choice. In this implementation, if any columns have greater than 75% missing values, they will be removed. \n",
    "\n",
    "Most models (including those in Sk-Learn) cannot handle missing values, so we have to fill these in before machine learning. The Gradient Boosting Machine ([(in LightGBM)](https://github.com/Microsoft/LightGBM/blob/master/docs/Advanced-Topics.rst)) can handle missing values. Imputing missing values always makes it little uncomfortable because we add information that actually isn't in the dataset."
   ]
  },
  {
   "cell_type": "code",
   "execution_count": 14,
   "metadata": {
    "_uuid": "7849b6e3f53cd08850e9e5797e7256b08a823acb"
   },
   "outputs": [
    {
     "data": {
      "text/plain": [
       "client_credit_AMT_PAYMENT_CURRENT_min_min            0.801438\n",
       "client_credit_AMT_PAYMENT_CURRENT_mean_max           0.801438\n",
       "client_credit_AMT_DRAWINGS_OTHER_CURRENT_min_mean    0.801178\n",
       "client_credit_CNT_DRAWINGS_OTHER_CURRENT_min_max     0.801178\n",
       "client_credit_AMT_DRAWINGS_ATM_CURRENT_mean_max      0.801178\n",
       "dtype: float64"
      ]
     },
     "execution_count": 14,
     "metadata": {},
     "output_type": "execute_result"
    }
   ],
   "source": [
    "# Train missing values (in percent)\n",
    "train_missing = (train.isnull().sum() / len(train)).sort_values(ascending = False)\n",
    "train_missing.head()"
   ]
  },
  {
   "cell_type": "code",
   "execution_count": 15,
   "metadata": {
    "_uuid": "f7b485689bedd322ea3eb9083822f814719add0b"
   },
   "outputs": [
    {
     "data": {
      "text/plain": [
       "client_credit_CNT_DRAWINGS_OTHER_CURRENT_max_max     0.773223\n",
       "client_credit_CNT_DRAWINGS_POS_CURRENT_mean_max      0.773223\n",
       "client_credit_CNT_DRAWINGS_ATM_CURRENT_min_max       0.773223\n",
       "client_credit_AMT_DRAWINGS_OTHER_CURRENT_mean_min    0.773223\n",
       "client_credit_CNT_DRAWINGS_POS_CURRENT_min_mean      0.773223\n",
       "dtype: float64"
      ]
     },
     "execution_count": 15,
     "metadata": {},
     "output_type": "execute_result"
    }
   ],
   "source": [
    "# Test missing values (in percent)\n",
    "test_missing = (test.isnull().sum() / len(test)).sort_values(ascending = False)\n",
    "test_missing.head()"
   ]
  },
  {
   "cell_type": "code",
   "execution_count": 16,
   "metadata": {
    "_uuid": "9ab5d9001ab54692f0e2bc4e1d976d734771891c"
   },
   "outputs": [
    {
     "name": "stdout",
     "output_type": "stream",
     "text": [
      "There are 19 columns with more than 75% missing values\n"
     ]
    }
   ],
   "source": [
    "# Identify missing values above threshold\n",
    "train_missing = train_missing.index[train_missing > 0.75]\n",
    "test_missing = test_missing.index[test_missing > 0.75]\n",
    "\n",
    "all_missing = list(set(set(train_missing) | set(test_missing)))\n",
    "print('There are %d columns with more than 75%% missing values' % len(all_missing))"
   ]
  },
  {
   "cell_type": "markdown",
   "metadata": {},
   "source": [
    "### We drop the columns, one-hot encode the dataframes, and then align the columns of the dataframes."
   ]
  },
  {
   "cell_type": "code",
   "execution_count": 17,
   "metadata": {
    "_uuid": "9478bfc3069bf9b4e192c45cf323c1ea84ca7b2c"
   },
   "outputs": [
    {
     "name": "stdout",
     "output_type": "stream",
     "text": [
      "Training set full shape:  (307511, 845)\n",
      "Testing set full shape:  (48744, 845)\n"
     ]
    }
   ],
   "source": [
    "# Need to save the labels because aligning will remove this column\n",
    "train_labels = train[\"TARGET\"]\n",
    "train_ids = train['SK_ID_CURR']\n",
    "test_ids = test['SK_ID_CURR']\n",
    "\n",
    "train = pd.get_dummies(train.drop(columns = all_missing))\n",
    "test = pd.get_dummies(test.drop(columns = all_missing))\n",
    "\n",
    "train, test = train.align(test, join = 'inner', axis = 1)\n",
    "\n",
    "print('Training set full shape: ', train.shape)\n",
    "print('Testing set full shape: ' , test.shape)"
   ]
  },
  {
   "cell_type": "code",
   "execution_count": 18,
   "metadata": {
    "_uuid": "06a7110748fe39b0ae8248ed62dfeb844a124ca1"
   },
   "outputs": [],
   "source": [
    "train = train.drop(columns = ['SK_ID_CURR'])\n",
    "test = test.drop(columns = ['SK_ID_CURR'])"
   ]
  },
  {
   "cell_type": "markdown",
   "metadata": {},
   "source": [
    "### One method for doing this automatically is the [Recursive Feature Elimination method](http://scikit-learn.org/stable/modules/generated/sklearn.feature_selection.RFE.html) in Scikit-Learn.\n",
    "\n",
    "Instead of doing this automatically, we perform our own feature removal by first removing all zero importance features from the model. If this leaves too many features, then we consider removing the features with the lowest importance. We use a Gradient Boosted Model from the LightGBM library to assess feature importances. If Scikit-Learn library is used, the LightGBM library has an API that makes deploying the model very similar to using a Scikit-Learn model. "
   ]
  },
  {
   "cell_type": "code",
   "execution_count": 19,
   "metadata": {
    "_uuid": "4741055961c566f3a2e9d60893950cade5a57330"
   },
   "outputs": [],
   "source": [
    "# Initialize an empty array to hold feature importances\n",
    "feature_importances = np.zeros(train.shape[1])\n",
    "\n",
    "# Create the model with several hyperparameters\n",
    "model = lgb.LGBMClassifier(objective='binary', boosting_type = 'goss', n_estimators = 10000, class_weight = 'balanced')"
   ]
  },
  {
   "cell_type": "code",
   "execution_count": 20,
   "metadata": {
    "_uuid": "4535a84ea5b2c55f7b443832c7a5b2b77894e511"
   },
   "outputs": [
    {
     "name": "stdout",
     "output_type": "stream",
     "text": [
      "Training until validation scores don't improve for 100 rounds.\n",
      "[200]\tvalid_0's binary_logloss: 0.508306\tvalid_0's auc: 0.78221\n",
      "Early stopping, best iteration is:\n",
      "[160]\tvalid_0's binary_logloss: 0.517915\tvalid_0's auc: 0.783367\n",
      "Training until validation scores don't improve for 100 rounds.\n",
      "[200]\tvalid_0's binary_logloss: 0.508221\tvalid_0's auc: 0.783794\n",
      "Early stopping, best iteration is:\n",
      "[125]\tvalid_0's binary_logloss: 0.527413\tvalid_0's auc: 0.784812\n"
     ]
    }
   ],
   "source": [
    "# Fit the model twice to avoid overfitting\n",
    "for i in range(2):\n",
    "    \n",
    "    # Split into training and validation set\n",
    "    train_features, valid_features, train_y, valid_y = train_test_split(train, train_labels, test_size = 0.25, random_state = i)\n",
    "    \n",
    "    # Train using early stopping\n",
    "    model.fit(train_features, train_y, early_stopping_rounds=100, eval_set = [(valid_features, valid_y)], \n",
    "              eval_metric = 'auc', verbose = 200)\n",
    "    \n",
    "    # Record the feature importances\n",
    "    feature_importances += model.feature_importances_"
   ]
  },
  {
   "cell_type": "code",
   "execution_count": 21,
   "metadata": {
    "_uuid": "68a0ce264d8182bffa27fca668d81040fdc3b9ba"
   },
   "outputs": [
    {
     "data": {
      "text/html": [
       "<div>\n",
       "<style scoped>\n",
       "    .dataframe tbody tr th:only-of-type {\n",
       "        vertical-align: middle;\n",
       "    }\n",
       "\n",
       "    .dataframe tbody tr th {\n",
       "        vertical-align: top;\n",
       "    }\n",
       "\n",
       "    .dataframe thead th {\n",
       "        text-align: right;\n",
       "    }\n",
       "</style>\n",
       "<table border=\"1\" class=\"dataframe\">\n",
       "  <thead>\n",
       "    <tr style=\"text-align: right;\">\n",
       "      <th></th>\n",
       "      <th>feature</th>\n",
       "      <th>importance</th>\n",
       "    </tr>\n",
       "  </thead>\n",
       "  <tbody>\n",
       "    <tr>\n",
       "      <th>24</th>\n",
       "      <td>EXT_SOURCE_1</td>\n",
       "      <td>149.0</td>\n",
       "    </tr>\n",
       "    <tr>\n",
       "      <th>25</th>\n",
       "      <td>EXT_SOURCE_2</td>\n",
       "      <td>122.5</td>\n",
       "    </tr>\n",
       "    <tr>\n",
       "      <th>368</th>\n",
       "      <td>client_installments_AMT_PAYMENT_min_sum</td>\n",
       "      <td>120.0</td>\n",
       "    </tr>\n",
       "    <tr>\n",
       "      <th>26</th>\n",
       "      <td>EXT_SOURCE_3</td>\n",
       "      <td>119.0</td>\n",
       "    </tr>\n",
       "    <tr>\n",
       "      <th>5</th>\n",
       "      <td>DAYS_BIRTH</td>\n",
       "      <td>95.0</td>\n",
       "    </tr>\n",
       "  </tbody>\n",
       "</table>\n",
       "</div>"
      ],
      "text/plain": [
       "                                     feature  importance\n",
       "24                              EXT_SOURCE_1       149.0\n",
       "25                              EXT_SOURCE_2       122.5\n",
       "368  client_installments_AMT_PAYMENT_min_sum       120.0\n",
       "26                              EXT_SOURCE_3       119.0\n",
       "5                                 DAYS_BIRTH        95.0"
      ]
     },
     "execution_count": 21,
     "metadata": {},
     "output_type": "execute_result"
    }
   ],
   "source": [
    "# Make sure to average feature importances! \n",
    "feature_importances = feature_importances / 2\n",
    "feature_importances = pd.DataFrame({'feature': list(train.columns), 'importance': feature_importances}).sort_values('importance', ascending = False)\n",
    "\n",
    "feature_importances.head()"
   ]
  },
  {
   "cell_type": "code",
   "execution_count": 22,
   "metadata": {
    "_uuid": "54f05dafeccd5f3800967fa304cbcf3b3076a5c2"
   },
   "outputs": [
    {
     "name": "stdout",
     "output_type": "stream",
     "text": [
      "There are 312 features with 0.0 importance\n"
     ]
    },
    {
     "data": {
      "text/html": [
       "<div>\n",
       "<style scoped>\n",
       "    .dataframe tbody tr th:only-of-type {\n",
       "        vertical-align: middle;\n",
       "    }\n",
       "\n",
       "    .dataframe tbody tr th {\n",
       "        vertical-align: top;\n",
       "    }\n",
       "\n",
       "    .dataframe thead th {\n",
       "        text-align: right;\n",
       "    }\n",
       "</style>\n",
       "<table border=\"1\" class=\"dataframe\">\n",
       "  <thead>\n",
       "    <tr style=\"text-align: right;\">\n",
       "      <th></th>\n",
       "      <th>feature</th>\n",
       "      <th>importance</th>\n",
       "    </tr>\n",
       "  </thead>\n",
       "  <tbody>\n",
       "    <tr>\n",
       "      <th>433</th>\n",
       "      <td>previous_loans_NAME_CASH_LOAN_PURPOSE_Car repa...</td>\n",
       "      <td>0.0</td>\n",
       "    </tr>\n",
       "    <tr>\n",
       "      <th>432</th>\n",
       "      <td>client_cash_NAME_CONTRACT_STATUS_Completed_cou...</td>\n",
       "      <td>0.0</td>\n",
       "    </tr>\n",
       "    <tr>\n",
       "      <th>431</th>\n",
       "      <td>previous_loans_CHANNEL_TYPE_Car dealer_count</td>\n",
       "      <td>0.0</td>\n",
       "    </tr>\n",
       "    <tr>\n",
       "      <th>430</th>\n",
       "      <td>previous_loans_NAME_CASH_LOAN_PURPOSE_Repairs_...</td>\n",
       "      <td>0.0</td>\n",
       "    </tr>\n",
       "    <tr>\n",
       "      <th>843</th>\n",
       "      <td>EMERGENCYSTATE_MODE_Yes</td>\n",
       "      <td>0.0</td>\n",
       "    </tr>\n",
       "  </tbody>\n",
       "</table>\n",
       "</div>"
      ],
      "text/plain": [
       "                                               feature  importance\n",
       "433  previous_loans_NAME_CASH_LOAN_PURPOSE_Car repa...         0.0\n",
       "432  client_cash_NAME_CONTRACT_STATUS_Completed_cou...         0.0\n",
       "431       previous_loans_CHANNEL_TYPE_Car dealer_count         0.0\n",
       "430  previous_loans_NAME_CASH_LOAN_PURPOSE_Repairs_...         0.0\n",
       "843                            EMERGENCYSTATE_MODE_Yes         0.0"
      ]
     },
     "execution_count": 22,
     "metadata": {},
     "output_type": "execute_result"
    }
   ],
   "source": [
    "# Find the features with zero importance\n",
    "zero_features = list(feature_importances[feature_importances['importance'] == 0.0]['feature'])\n",
    "print('There are %d features with 0.0 importance' % len(zero_features))\n",
    "feature_importances.tail()"
   ]
  },
  {
   "cell_type": "markdown",
   "metadata": {},
   "source": [
    "### One of feature made it into the top 5 most important. That's a good sign our hard work making the features. It also looks like many of the features we made have literally 0 importance. For the gradient boosting machine, features with 0 importance are not used at all to make any splits. Therefore, we remove these features from the model with no effect on performance (except for faster training)."
   ]
  },
  {
   "cell_type": "code",
   "execution_count": 23,
   "metadata": {
    "_uuid": "144732dd9d88d13b06983590b9d34970ff6c9a69"
   },
   "outputs": [],
   "source": [
    "def plot_feature_importances(df, threshold = 0.9):\n",
    "    \"\"\"\n",
    "    Plots 15 most important features and the cumulative importance of features.\n",
    "    Prints the number of features needed to reach threshold cumulative importance.\n",
    "    \n",
    "    Parameters\n",
    "    --------\n",
    "    df : dataframe\n",
    "        Dataframe of feature importances. Columns must be feature and importance\n",
    "    threshold : float, default = 0.9\n",
    "        Threshold for prining information about cumulative importances\n",
    "        \n",
    "    Return\n",
    "    --------\n",
    "    df : dataframe\n",
    "        Dataframe ordered by feature importances with a normalized column (sums to 1)\n",
    "        and a cumulative importance column\n",
    "    \n",
    "    \"\"\"\n",
    "    \n",
    "    plt.rcParams['font.size'] = 18\n",
    "    \n",
    "    # Sort features according to importance\n",
    "    df = df.sort_values('importance', ascending = False).reset_index()\n",
    "    \n",
    "    # Normalize the feature importances to add up to one\n",
    "    df['importance_normalized'] = df['importance'] / df['importance'].sum()\n",
    "    df['cumulative_importance'] = np.cumsum(df['importance_normalized'])\n",
    "\n",
    "    # Make a horizontal bar chart of feature importances\n",
    "    plt.figure(figsize = (10, 6))\n",
    "    ax = plt.subplot()\n",
    "    \n",
    "    # Need to reverse the index to plot most important on top\n",
    "    ax.barh(list(reversed(list(df.index[:15]))), \n",
    "            df['importance_normalized'].head(15), \n",
    "            align = 'center', edgecolor = 'k')\n",
    "    \n",
    "    # Set the yticks and labels\n",
    "    ax.set_yticks(list(reversed(list(df.index[:15]))))\n",
    "    ax.set_yticklabels(df['feature'].head(15))\n",
    "    \n",
    "    # Plot labeling\n",
    "    plt.xlabel('Normalized Importance'); plt.title('Feature Importances')\n",
    "    plt.show()\n",
    "    \n",
    "    # Cumulative importance plot\n",
    "    plt.figure(figsize = (8, 6))\n",
    "    plt.plot(list(range(len(df))), df['cumulative_importance'], 'r-')\n",
    "    plt.xlabel('Number of Features'); plt.ylabel('Cumulative Importance'); \n",
    "    plt.title('Cumulative Feature Importance');\n",
    "    plt.show();\n",
    "    \n",
    "    importance_index = np.min(np.where(df['cumulative_importance'] > threshold))\n",
    "    print('%d features required for %0.2f of cumulative importance' % (importance_index + 1, threshold))\n",
    "    \n",
    "    return df"
   ]
  },
  {
   "cell_type": "code",
   "execution_count": 24,
   "metadata": {
    "_uuid": "ea0dcbff339b6ffdfd654d165cdb96268311ba95"
   },
   "outputs": [
    {
     "data": {
      "image/png": "[encoded data removed]",
      "text/plain": [
       "<Figure size 720x432 with 1 Axes>"
      ]
     },
     "metadata": {
      "needs_background": "light"
     },
     "output_type": "display_data"
    },
    {
     "data": {
      "image/png": "[encoded data removed]",
      "text/plain": [
       "<Figure size 576x432 with 1 Axes>"
      ]
     },
     "metadata": {
      "needs_background": "light"
     },
     "output_type": "display_data"
    },
    {
     "name": "stdout",
     "output_type": "stream",
     "text": [
      "272 features required for 0.90 of cumulative importance\n"
     ]
    }
   ],
   "source": [
    "norm_feature_importances = plot_feature_importances(feature_importances)"
   ]
  },
  {
   "cell_type": "markdown",
   "metadata": {
    "_uuid": "e8df33430fe5bd31d83e5d2ca5050c0864b34488"
   },
   "source": [
    "### We remove the features that have zero importance."
   ]
  },
  {
   "cell_type": "code",
   "execution_count": 25,
   "metadata": {
    "_uuid": "e3849b51615d52eee53e3c919c17c6066ae29397"
   },
   "outputs": [
    {
     "name": "stdout",
     "output_type": "stream",
     "text": [
      "Training shape:  (307511, 532)\n",
      "Testing shape:  (48744, 532)\n"
     ]
    }
   ],
   "source": [
    "train = train.drop(columns = zero_features)\n",
    "test = test.drop(columns = zero_features)\n",
    "\n",
    "print('Training shape: ', train.shape)\n",
    "print('Testing shape: ', test.shape)"
   ]
  },
  {
   "cell_type": "markdown",
   "metadata": {},
   "source": [
    "### We now re-run the model to see if it identifies any more features with zero importance. In a way, we are implementing our form of recursive feature elimination. Since we are repeating work, we should put the zero feature importance identification code in a function."
   ]
  },
  {
   "cell_type": "code",
   "execution_count": 26,
   "metadata": {
    "_uuid": "d09ec2ad863688243bc95c51aa43a559f56ad4fb"
   },
   "outputs": [],
   "source": [
    "def identify_zero_importance_features(train, train_labels, iterations = 2):\n",
    "    \"\"\"\n",
    "    Identify zero importance features in a training dataset based on the \n",
    "    feature importances from a gradient boosting model. \n",
    "    \n",
    "    Parameters\n",
    "    --------\n",
    "    train : dataframe\n",
    "        Training features\n",
    "        \n",
    "    train_labels : np.array\n",
    "        Labels for training data\n",
    "        \n",
    "    iterations : integer, default = 2\n",
    "        Number of cross validation splits to use for determining feature importances\n",
    "    \"\"\"\n",
    "    \n",
    "    # Initialize an empty array to hold feature importances\n",
    "    feature_importances = np.zeros(train.shape[1])\n",
    "\n",
    "    # Create the model with several hyperparameters\n",
    "    model = lgb.LGBMClassifier(objective='binary', boosting_type = 'goss', n_estimators = 10000, class_weight = 'balanced')\n",
    "    \n",
    "    # Fit the model multiple times to avoid overfitting\n",
    "    for i in range(iterations):\n",
    "\n",
    "        # Split into training and validation set\n",
    "        train_features, valid_features, train_y, valid_y = train_test_split(train, train_labels, test_size = 0.25, random_state = i)\n",
    "\n",
    "        # Train using early stopping\n",
    "        model.fit(train_features, train_y, early_stopping_rounds=100, eval_set = [(valid_features, valid_y)], \n",
    "                  eval_metric = 'auc', verbose = 200)\n",
    "\n",
    "        # Record the feature importances\n",
    "        feature_importances += model.feature_importances_ / iterations\n",
    "    \n",
    "    feature_importances = pd.DataFrame({'feature': list(train.columns), 'importance': feature_importances}).sort_values('importance', ascending = False)\n",
    "    \n",
    "    # Find the features with zero importance\n",
    "    zero_features = list(feature_importances[feature_importances['importance'] == 0.0]['feature'])\n",
    "    print('\\nThere are %d features with 0.0 importance' % len(zero_features))\n",
    "    \n",
    "    return zero_features, feature_importances"
   ]
  },
  {
   "cell_type": "code",
   "execution_count": 27,
   "metadata": {
    "_uuid": "f69eede0e8e04f1f4c850e5c102dcdebcdb107e7"
   },
   "outputs": [
    {
     "name": "stdout",
     "output_type": "stream",
     "text": [
      "Training until validation scores don't improve for 100 rounds.\n",
      "[200]\tvalid_0's binary_logloss: 0.508382\tvalid_0's auc: 0.782907\n",
      "Early stopping, best iteration is:\n",
      "[160]\tvalid_0's binary_logloss: 0.517915\tvalid_0's auc: 0.783367\n",
      "Training until validation scores don't improve for 100 rounds.\n",
      "[200]\tvalid_0's binary_logloss: 0.507452\tvalid_0's auc: 0.784651\n",
      "Early stopping, best iteration is:\n",
      "[156]\tvalid_0's binary_logloss: 0.518948\tvalid_0's auc: 0.785086\n",
      "\n",
      "There are 0 features with 0.0 importance\n"
     ]
    }
   ],
   "source": [
    "second_round_zero_features, feature_importances = identify_zero_importance_features(train, train_labels)"
   ]
  },
  {
   "cell_type": "markdown",
   "metadata": {},
   "source": [
    "### There are now no 0 importance features left. If we desire to remove more features, we have to start with features that have a non-zero importance. One way we could do this is by retaining enough features to account for a threshold percentage of importance, such as 95%. At this point, we keep enough features to account for 95% of the importance. Again, this is an arbitrary decision "
   ]
  },
  {
   "cell_type": "code",
   "execution_count": 28,
   "metadata": {
    "_uuid": "bb6dd17a7417f3b67017e7e8e18c09725df6e434"
   },
   "outputs": [
    {
     "data": {
      "image/png": "[encoded data removed]",
      "text/plain": [
       "<Figure size 720x432 with 1 Axes>"
      ]
     },
     "metadata": {
      "needs_background": "light"
     },
     "output_type": "display_data"
    },
    {
     "data": {
      "image/png": "[encoded data removed]",
      "text/plain": [
       "<Figure size 576x432 with 1 Axes>"
      ]
     },
     "metadata": {
      "needs_background": "light"
     },
     "output_type": "display_data"
    },
    {
     "name": "stdout",
     "output_type": "stream",
     "text": [
      "344 features required for 0.95 of cumulative importance\n"
     ]
    }
   ],
   "source": [
    "norm_feature_importances = plot_feature_importances(feature_importances, threshold = 0.95)"
   ]
  },
  {
   "cell_type": "markdown",
   "metadata": {},
   "source": [
    "### We keep only the features needed for 95% importance. This step seems to have the greatest chance of harming the model's learning ability, so rather than changing the original dataset, we make smaller copies. Then, we test both versions of the data to see if the extra feature removal step is worthwhile. "
   ]
  },
  {
   "cell_type": "code",
   "execution_count": 29,
   "metadata": {
    "_uuid": "55a534e48b21d4038413a11ff3aad5e025bba5bd"
   },
   "outputs": [],
   "source": [
    "# Threshold for cumulative importance\n",
    "threshold = 0.95\n",
    "\n",
    "# Extract the features to keep\n",
    "features_to_keep = list(norm_feature_importances[norm_feature_importances['cumulative_importance'] < threshold]['feature'])\n",
    "\n",
    "# Create new datasets with smaller features\n",
    "train_small = train[features_to_keep]\n",
    "test_small = test[features_to_keep]"
   ]
  },
  {
   "cell_type": "code",
   "execution_count": 30,
   "metadata": {
    "_uuid": "b004fb636fee6ad313296c185273a5c0058afc78"
   },
   "outputs": [],
   "source": [
    "train_small['TARGET'] = train_labels\n",
    "train_small['SK_ID_CURR'] = train_ids\n",
    "test_small['SK_ID_CURR'] = test_ids\n",
    "\n",
    "#train_small.to_csv('m_train_small.csv', index = False)\n",
    "#test_small.to_csv('m_test_small.csv', index = False)"
   ]
  },
  {
   "cell_type": "markdown",
   "metadata": {},
   "source": [
    "### Test New Featuresets\n",
    "\n",
    "The last step of feature removal we did, may have the potential to hurt the model the most. Therefore we test the effect of this removal. To do that, we use a standard model and change the features. \n",
    "\n",
    "We use a fairly standard LightGBM model, similar to the one we used for feature selection. The main difference is this model uses five-fold cross validation for training and we use it to make predictions. There's a lot of code here, but that's because we included documentation and a few extras (such as feature importances) that aren't strictly necessary. We use the same model with two different datasets to see which one performs the best."
   ]
  },
  {
   "cell_type": "code",
   "execution_count": 31,
   "metadata": {
    "_uuid": "cf8d66553230c1a535438f3a453ca3a05da7bc29"
   },
   "outputs": [],
   "source": [
    "def model(features, test_features, encoding = 'ohe', n_folds = 5):\n",
    "    \n",
    "    \"\"\"Train and test a light gradient boosting model using\n",
    "    cross validation. \n",
    "    \n",
    "    Parameters\n",
    "    --------\n",
    "        features (pd.DataFrame): \n",
    "            dataframe of training features to use \n",
    "            for training a model. Must include the TARGET column.\n",
    "        test_features (pd.DataFrame): \n",
    "            dataframe of testing features to use\n",
    "            for making predictions with the model. \n",
    "        encoding (str, default = 'ohe'): \n",
    "            method for encoding categorical variables. Either 'ohe' for one-hot encoding or 'le' for integer label encoding\n",
    "            n_folds (int, default = 5): number of folds to use for cross validation\n",
    "        \n",
    "    Return\n",
    "    --------\n",
    "        submission (pd.DataFrame): \n",
    "            dataframe with `SK_ID_CURR` and `TARGET` probabilities\n",
    "            predicted by the model.\n",
    "        feature_importances (pd.DataFrame): \n",
    "            dataframe with the feature importances from the model.\n",
    "        valid_metrics (pd.DataFrame): \n",
    "            dataframe with training and validation metrics (ROC AUC) for each fold and overall.\n",
    "        \n",
    "    \"\"\"\n",
    "    \n",
    "    # Extract the ids\n",
    "    train_ids = features['SK_ID_CURR']\n",
    "    test_ids = test_features['SK_ID_CURR']\n",
    "    \n",
    "    # Extract the labels for training\n",
    "    labels = features['TARGET']\n",
    "    \n",
    "    # Remove the ids and target\n",
    "    features = features.drop(columns = ['SK_ID_CURR', 'TARGET'])\n",
    "    test_features = test_features.drop(columns = ['SK_ID_CURR'])\n",
    "    \n",
    "    \n",
    "    # One Hot Encoding\n",
    "    if encoding == 'ohe':\n",
    "        features = pd.get_dummies(features)\n",
    "        test_features = pd.get_dummies(test_features)\n",
    "        \n",
    "        # Align the dataframes by the columns\n",
    "        features, test_features = features.align(test_features, join = 'inner', axis = 1)\n",
    "        \n",
    "        # No categorical indices to record\n",
    "        cat_indices = 'auto'\n",
    "    \n",
    "    # Integer label encoding\n",
    "    elif encoding == 'le':\n",
    "        \n",
    "        # Create a label encoder\n",
    "        label_encoder = LabelEncoder()\n",
    "        \n",
    "        # List for storing categorical indices\n",
    "        cat_indices = []\n",
    "        \n",
    "        # Iterate through each column\n",
    "        for i, col in enumerate(features):\n",
    "            if features[col].dtype == 'object':\n",
    "                # Map the categorical features to integers\n",
    "                features[col] = label_encoder.fit_transform(np.array(features[col].astype(str)).reshape((-1,)))\n",
    "                test_features[col] = label_encoder.transform(np.array(test_features[col].astype(str)).reshape((-1,)))\n",
    "\n",
    "                # Record the categorical indices\n",
    "                cat_indices.append(i)\n",
    "    \n",
    "    # Catch error if label encoding scheme is not valid\n",
    "    else:\n",
    "        raise ValueError(\"Encoding must be either 'ohe' or 'le'\")\n",
    "        \n",
    "    print('Training Data Shape: ', features.shape)\n",
    "    print('Testing Data Shape: ', test_features.shape)\n",
    "    \n",
    "    # Extract feature names\n",
    "    feature_names = list(features.columns)\n",
    "    \n",
    "    # Convert to np arrays\n",
    "    features = np.array(features)\n",
    "    test_features = np.array(test_features)\n",
    "    \n",
    "    # Create the kfold object\n",
    "    k_fold = KFold(n_splits = n_folds, shuffle = False, random_state = 50)\n",
    "    \n",
    "    # Empty array for feature importances\n",
    "    feature_importance_values = np.zeros(len(feature_names))\n",
    "    \n",
    "    # Empty array for test predictions\n",
    "    test_predictions = np.zeros(test_features.shape[0])\n",
    "    \n",
    "    # Empty array for out of fold validation predictions\n",
    "    out_of_fold = np.zeros(features.shape[0])\n",
    "    \n",
    "    # Lists for recording validation and training scores\n",
    "    valid_scores = []\n",
    "    train_scores = []\n",
    "    \n",
    "    # Iterate through each fold\n",
    "    for train_indices, valid_indices in k_fold.split(features):\n",
    "        \n",
    "        # Training data for the fold\n",
    "        train_features, train_labels = features[train_indices], labels[train_indices]\n",
    "        # Validation data for the fold\n",
    "        valid_features, valid_labels = features[valid_indices], labels[valid_indices]\n",
    "        \n",
    "        # Create the model\n",
    "        model = lgb.LGBMClassifier(n_estimators=10000, objective = 'binary', boosting_type='goss',\n",
    "                                   class_weight = 'balanced', learning_rate = 0.05, \n",
    "                                   reg_alpha = 0.1, reg_lambda = 0.1, n_jobs = -1, random_state = 50)\n",
    "        \n",
    "        # Train the model\n",
    "        model.fit(train_features, train_labels, eval_metric = 'auc',\n",
    "                  eval_set = [(valid_features, valid_labels), (train_features, train_labels)],\n",
    "                  eval_names = ['valid', 'train'], categorical_feature = cat_indices,\n",
    "                  early_stopping_rounds = 100, verbose = 200)\n",
    "        \n",
    "        # Record the best iteration\n",
    "        best_iteration = model.best_iteration_\n",
    "        \n",
    "        # Record the feature importances\n",
    "        feature_importance_values += model.feature_importances_ / k_fold.n_splits\n",
    "        \n",
    "        # Make predictions\n",
    "        test_predictions += model.predict_proba(test_features, num_iteration = best_iteration)[:, 1] / k_fold.n_splits\n",
    "        \n",
    "        # Record the out of fold predictions\n",
    "        out_of_fold[valid_indices] = model.predict_proba(valid_features, num_iteration = best_iteration)[:, 1]\n",
    "        \n",
    "        # Record the best score\n",
    "        valid_score = model.best_score_['valid']['auc']\n",
    "        train_score = model.best_score_['train']['auc']\n",
    "        \n",
    "        valid_scores.append(valid_score)\n",
    "        train_scores.append(train_score)\n",
    "        \n",
    "        # Clean up memory\n",
    "        gc.enable()\n",
    "        del model, train_features, valid_features\n",
    "        gc.collect()\n",
    "        \n",
    "    # Make the submission dataframe\n",
    "    submission = pd.DataFrame({'SK_ID_CURR': test_ids, 'TARGET': test_predictions})\n",
    "    \n",
    "    # Make the feature importance dataframe\n",
    "    feature_importances = pd.DataFrame({'feature': feature_names, 'importance': feature_importance_values})\n",
    "    \n",
    "    # Overall validation score\n",
    "    valid_auc = roc_auc_score(labels, out_of_fold)\n",
    "    \n",
    "    # Add the overall scores to the metrics\n",
    "    valid_scores.append(valid_auc)\n",
    "    train_scores.append(np.mean(train_scores))\n",
    "    \n",
    "    # Needed for creating dataframe of validation scores\n",
    "    fold_names = list(range(n_folds))\n",
    "    fold_names.append('overall')\n",
    "    \n",
    "    # Dataframe of validation scores\n",
    "    metrics = pd.DataFrame({'fold': fold_names,\n",
    "                            'train': train_scores,\n",
    "                            'valid': valid_scores}) \n",
    "    \n",
    "    return submission, feature_importances, metrics"
   ]
  },
  {
   "cell_type": "markdown",
   "metadata": {},
   "source": [
    "### Test \"Full\" Dataset\n",
    "\n",
    "This is the expanded dataset. The process used to make this dataset is:\n",
    "\n",
    "* Removed collinear features as measured by the correlation coefficient greater than 0.9\n",
    "* Removed any columns with greater than 80% missing values in the train or test set\n",
    "* Removed all features with non-zero feature importances"
   ]
  },
  {
   "cell_type": "code",
   "execution_count": 32,
   "metadata": {
    "_uuid": "3560addd3c31f5c21235062257bf022e31a872d3"
   },
   "outputs": [
    {
     "name": "stdout",
     "output_type": "stream",
     "text": [
      "Training Data Shape:  (307511, 532)\n",
      "Testing Data Shape:  (48744, 532)\n",
      "Training until validation scores don't improve for 100 rounds.\n",
      "[200]\ttrain's binary_logloss: 0.516352\ttrain's auc: 0.82906\tvalid's binary_logloss: 0.537195\tvalid's auc: 0.781236\n",
      "[400]\ttrain's binary_logloss: 0.473457\ttrain's auc: 0.866714\tvalid's binary_logloss: 0.510087\tvalid's auc: 0.78225\n",
      "Early stopping, best iteration is:\n",
      "[385]\ttrain's binary_logloss: 0.476136\ttrain's auc: 0.864482\tvalid's binary_logloss: 0.511777\tvalid's auc: 0.78246\n",
      "Training until validation scores don't improve for 100 rounds.\n",
      "[200]\ttrain's binary_logloss: 0.517315\ttrain's auc: 0.828325\tvalid's binary_logloss: 0.53835\tvalid's auc: 0.784308\n",
      "[400]\ttrain's binary_logloss: 0.474188\ttrain's auc: 0.866165\tvalid's binary_logloss: 0.510147\tvalid's auc: 0.78676\n",
      "Early stopping, best iteration is:\n",
      "[464]\ttrain's binary_logloss: 0.462484\ttrain's auc: 0.876226\tvalid's binary_logloss: 0.502558\tvalid's auc: 0.78738\n",
      "Training until validation scores don't improve for 100 rounds.\n",
      "[200]\ttrain's binary_logloss: 0.515214\ttrain's auc: 0.830088\tvalid's binary_logloss: 0.536194\tvalid's auc: 0.777466\n",
      "[400]\ttrain's binary_logloss: 0.471896\ttrain's auc: 0.867887\tvalid's binary_logloss: 0.508641\tvalid's auc: 0.77984\n",
      "Early stopping, best iteration is:\n",
      "[386]\ttrain's binary_logloss: 0.474576\ttrain's auc: 0.865555\tvalid's binary_logloss: 0.510145\tvalid's auc: 0.780001\n",
      "Training until validation scores don't improve for 100 rounds.\n",
      "[200]\ttrain's binary_logloss: 0.516844\ttrain's auc: 0.828902\tvalid's binary_logloss: 0.536032\tvalid's auc: 0.783011\n",
      "[400]\ttrain's binary_logloss: 0.474051\ttrain's auc: 0.86657\tvalid's binary_logloss: 0.508737\tvalid's auc: 0.783371\n",
      "Early stopping, best iteration is:\n",
      "[331]\ttrain's binary_logloss: 0.487663\ttrain's auc: 0.854707\tvalid's binary_logloss: 0.517248\tvalid's auc: 0.783792\n",
      "Training until validation scores don't improve for 100 rounds.\n",
      "[200]\ttrain's binary_logloss: 0.517009\ttrain's auc: 0.828399\tvalid's binary_logloss: 0.535645\tvalid's auc: 0.783753\n",
      "[400]\ttrain's binary_logloss: 0.474297\ttrain's auc: 0.866045\tvalid's binary_logloss: 0.508441\tvalid's auc: 0.785938\n",
      "Early stopping, best iteration is:\n",
      "[382]\ttrain's binary_logloss: 0.477638\ttrain's auc: 0.863236\tvalid's binary_logloss: 0.510428\tvalid's auc: 0.786078\n"
     ]
    }
   ],
   "source": [
    "train['TARGET'] = train_labels\n",
    "train['SK_ID_CURR'] = train_ids\n",
    "test['SK_ID_CURR'] = test_ids\n",
    "\n",
    "submission, feature_importances, metrics = model(train, test)"
   ]
  },
  {
   "cell_type": "code",
   "execution_count": 33,
   "metadata": {
    "_uuid": "400cf0845130330e64dd59705a16488d077f4d27"
   },
   "outputs": [
    {
     "data": {
      "text/html": [
       "<div>\n",
       "<style scoped>\n",
       "    .dataframe tbody tr th:only-of-type {\n",
       "        vertical-align: middle;\n",
       "    }\n",
       "\n",
       "    .dataframe tbody tr th {\n",
       "        vertical-align: top;\n",
       "    }\n",
       "\n",
       "    .dataframe thead th {\n",
       "        text-align: right;\n",
       "    }\n",
       "</style>\n",
       "<table border=\"1\" class=\"dataframe\">\n",
       "  <thead>\n",
       "    <tr style=\"text-align: right;\">\n",
       "      <th></th>\n",
       "      <th>fold</th>\n",
       "      <th>train</th>\n",
       "      <th>valid</th>\n",
       "    </tr>\n",
       "  </thead>\n",
       "  <tbody>\n",
       "    <tr>\n",
       "      <th>0</th>\n",
       "      <td>0</td>\n",
       "      <td>0.864482</td>\n",
       "      <td>0.782460</td>\n",
       "    </tr>\n",
       "    <tr>\n",
       "      <th>1</th>\n",
       "      <td>1</td>\n",
       "      <td>0.876226</td>\n",
       "      <td>0.787380</td>\n",
       "    </tr>\n",
       "    <tr>\n",
       "      <th>2</th>\n",
       "      <td>2</td>\n",
       "      <td>0.865555</td>\n",
       "      <td>0.780001</td>\n",
       "    </tr>\n",
       "    <tr>\n",
       "      <th>3</th>\n",
       "      <td>3</td>\n",
       "      <td>0.854707</td>\n",
       "      <td>0.783792</td>\n",
       "    </tr>\n",
       "    <tr>\n",
       "      <th>4</th>\n",
       "      <td>4</td>\n",
       "      <td>0.863236</td>\n",
       "      <td>0.786078</td>\n",
       "    </tr>\n",
       "    <tr>\n",
       "      <th>5</th>\n",
       "      <td>overall</td>\n",
       "      <td>0.864841</td>\n",
       "      <td>0.783887</td>\n",
       "    </tr>\n",
       "  </tbody>\n",
       "</table>\n",
       "</div>"
      ],
      "text/plain": [
       "      fold     train     valid\n",
       "0        0  0.864482  0.782460\n",
       "1        1  0.876226  0.787380\n",
       "2        2  0.865555  0.780001\n",
       "3        3  0.854707  0.783792\n",
       "4        4  0.863236  0.786078\n",
       "5  overall  0.864841  0.783887"
      ]
     },
     "execution_count": 33,
     "metadata": {},
     "output_type": "execute_result"
    }
   ],
   "source": [
    "metrics"
   ]
  },
  {
   "cell_type": "code",
   "execution_count": 34,
   "metadata": {
    "_uuid": "bd41dd2fc42440ce495fd42e4819b00e5658b656"
   },
   "outputs": [],
   "source": [
    "submission.to_csv('selected_features_submission.csv', index = False)"
   ]
  },
  {
   "cell_type": "markdown",
   "metadata": {
    "_uuid": "fe3efd3457d02bf99dfa033d01f870487f3314c1"
   },
   "source": [
    "The full features after feature selection scored __0.783__ when submitted to the public leaderboard. "
   ]
  },
  {
   "cell_type": "markdown",
   "metadata": {
    "_uuid": "b5e46e877e2be014cb9a821de7c93efb6d90f036"
   },
   "source": [
    "### Test \"Small\" Dataset\n",
    "\n",
    "The small dataset does one additional step over the full dataset:\n",
    "\n",
    "* Keep only features needed to reach 95% cumulative importance in the gradient boosting machine"
   ]
  },
  {
   "cell_type": "code",
   "execution_count": 35,
   "metadata": {
    "_uuid": "a3a34bde5e4be879d334fff74a246c6c11b679e6"
   },
   "outputs": [
    {
     "name": "stdout",
     "output_type": "stream",
     "text": [
      "Training Data Shape:  (307511, 343)\n",
      "Testing Data Shape:  (48744, 343)\n",
      "Training until validation scores don't improve for 100 rounds.\n",
      "[200]\ttrain's binary_logloss: 0.516769\ttrain's auc: 0.828884\tvalid's binary_logloss: 0.536733\tvalid's auc: 0.781134\n",
      "[400]\ttrain's binary_logloss: 0.474059\ttrain's auc: 0.866143\tvalid's binary_logloss: 0.509841\tvalid's auc: 0.782622\n",
      "Early stopping, best iteration is:\n",
      "[496]\ttrain's binary_logloss: 0.45686\ttrain's auc: 0.880621\tvalid's binary_logloss: 0.498756\tvalid's auc: 0.783026\n",
      "Training until validation scores don't improve for 100 rounds.\n",
      "[200]\ttrain's binary_logloss: 0.517529\ttrain's auc: 0.828129\tvalid's binary_logloss: 0.537475\tvalid's auc: 0.78451\n",
      "[400]\ttrain's binary_logloss: 0.474641\ttrain's auc: 0.866032\tvalid's binary_logloss: 0.51065\tvalid's auc: 0.785695\n",
      "Early stopping, best iteration is:\n",
      "[348]\ttrain's binary_logloss: 0.484705\ttrain's auc: 0.85725\tvalid's binary_logloss: 0.5169\tvalid's auc: 0.786125\n",
      "Training until validation scores don't improve for 100 rounds.\n",
      "[200]\ttrain's binary_logloss: 0.51512\ttrain's auc: 0.82999\tvalid's binary_logloss: 0.536151\tvalid's auc: 0.77777\n",
      "[400]\ttrain's binary_logloss: 0.472231\ttrain's auc: 0.867351\tvalid's binary_logloss: 0.508761\tvalid's auc: 0.77994\n",
      "Early stopping, best iteration is:\n",
      "[342]\ttrain's binary_logloss: 0.483589\ttrain's auc: 0.857595\tvalid's binary_logloss: 0.515691\tvalid's auc: 0.78024\n",
      "Training until validation scores don't improve for 100 rounds.\n",
      "[200]\ttrain's binary_logloss: 0.516971\ttrain's auc: 0.828653\tvalid's binary_logloss: 0.536095\tvalid's auc: 0.782823\n",
      "[400]\ttrain's binary_logloss: 0.47368\ttrain's auc: 0.866697\tvalid's binary_logloss: 0.508039\tvalid's auc: 0.784458\n",
      "Early stopping, best iteration is:\n",
      "[387]\ttrain's binary_logloss: 0.476176\ttrain's auc: 0.864603\tvalid's binary_logloss: 0.509586\tvalid's auc: 0.784609\n",
      "Training until validation scores don't improve for 100 rounds.\n",
      "[200]\ttrain's binary_logloss: 0.517371\ttrain's auc: 0.828114\tvalid's binary_logloss: 0.535297\tvalid's auc: 0.784111\n",
      "[400]\ttrain's binary_logloss: 0.474645\ttrain's auc: 0.86593\tvalid's binary_logloss: 0.508117\tvalid's auc: 0.785901\n",
      "Early stopping, best iteration is:\n",
      "[420]\ttrain's binary_logloss: 0.470957\ttrain's auc: 0.869119\tvalid's binary_logloss: 0.50544\tvalid's auc: 0.78609\n"
     ]
    }
   ],
   "source": [
    "submission_small, feature_importances_small, metrics_small = model(train_small, test_small)"
   ]
  },
  {
   "cell_type": "code",
   "execution_count": 36,
   "metadata": {
    "_uuid": "beed5d5aed49e7a61db907778b8b717729697d76"
   },
   "outputs": [
    {
     "data": {
      "text/html": [
       "<div>\n",
       "<style scoped>\n",
       "    .dataframe tbody tr th:only-of-type {\n",
       "        vertical-align: middle;\n",
       "    }\n",
       "\n",
       "    .dataframe tbody tr th {\n",
       "        vertical-align: top;\n",
       "    }\n",
       "\n",
       "    .dataframe thead th {\n",
       "        text-align: right;\n",
       "    }\n",
       "</style>\n",
       "<table border=\"1\" class=\"dataframe\">\n",
       "  <thead>\n",
       "    <tr style=\"text-align: right;\">\n",
       "      <th></th>\n",
       "      <th>fold</th>\n",
       "      <th>train</th>\n",
       "      <th>valid</th>\n",
       "    </tr>\n",
       "  </thead>\n",
       "  <tbody>\n",
       "    <tr>\n",
       "      <th>0</th>\n",
       "      <td>0</td>\n",
       "      <td>0.880621</td>\n",
       "      <td>0.783026</td>\n",
       "    </tr>\n",
       "    <tr>\n",
       "      <th>1</th>\n",
       "      <td>1</td>\n",
       "      <td>0.857250</td>\n",
       "      <td>0.786125</td>\n",
       "    </tr>\n",
       "    <tr>\n",
       "      <th>2</th>\n",
       "      <td>2</td>\n",
       "      <td>0.857595</td>\n",
       "      <td>0.780240</td>\n",
       "    </tr>\n",
       "    <tr>\n",
       "      <th>3</th>\n",
       "      <td>3</td>\n",
       "      <td>0.864603</td>\n",
       "      <td>0.784609</td>\n",
       "    </tr>\n",
       "    <tr>\n",
       "      <th>4</th>\n",
       "      <td>4</td>\n",
       "      <td>0.869119</td>\n",
       "      <td>0.786090</td>\n",
       "    </tr>\n",
       "    <tr>\n",
       "      <th>5</th>\n",
       "      <td>overall</td>\n",
       "      <td>0.865838</td>\n",
       "      <td>0.784018</td>\n",
       "    </tr>\n",
       "  </tbody>\n",
       "</table>\n",
       "</div>"
      ],
      "text/plain": [
       "      fold     train     valid\n",
       "0        0  0.880621  0.783026\n",
       "1        1  0.857250  0.786125\n",
       "2        2  0.857595  0.780240\n",
       "3        3  0.864603  0.784609\n",
       "4        4  0.869119  0.786090\n",
       "5  overall  0.865838  0.784018"
      ]
     },
     "execution_count": 36,
     "metadata": {},
     "output_type": "execute_result"
    }
   ],
   "source": [
    "metrics_small"
   ]
  },
  {
   "cell_type": "code",
   "execution_count": 37,
   "metadata": {
    "_uuid": "edb183a37eaeff22deb3f5afb04b6da480997e63"
   },
   "outputs": [],
   "source": [
    "submission_small.to_csv('selected_features_small_submission.csv', index = False)"
   ]
  },
  {
   "cell_type": "markdown",
   "metadata": {},
   "source": [
    "### The smaller featureset scored __0.782__ when submitted to the public leaderboard."
   ]
  }
 ],
 "metadata": {
  "kernelspec": {
   "display_name": "Python 3",
   "language": "python",
   "name": "python3"
  },
  "language_info": {
   "codemirror_mode": {
    "name": "ipython",
    "version": 3
   },
   "file_extension": ".py",
   "mimetype": "text/x-python",
   "name": "python",
   "nbconvert_exporter": "python",
   "pygments_lexer": "ipython3",
   "version": "3.7.1"
  },
  "latex_envs": {
   "LaTeX_envs_menu_present": true,
   "autoclose": false,
   "autocomplete": true,
   "bibliofile": "biblio.bib",
   "cite_by": "apalike",
   "current_citInitial": 1,
   "eqLabelWithNumbers": true,
   "eqNumInitial": 1,
   "hotkeys": {
    "equation": "Ctrl-E",
    "itemize": "Ctrl-I"
   },
   "labels_anchors": false,
   "latex_user_defs": false,
   "report_style_numbering": false,
   "user_envs_cfg": false
  }
 },
 "nbformat": 4,
 "nbformat_minor": 2
}
